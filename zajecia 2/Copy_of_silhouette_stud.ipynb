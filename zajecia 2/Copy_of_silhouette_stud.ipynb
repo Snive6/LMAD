{
 "cells": [
  {
   "cell_type": "markdown",
   "metadata": {
    "id": "zNK7fxS1DX0J"
   },
   "source": [
    "## Indeks silhouette\n",
    "\n",
    "jest indeksem obliczanym dla każdego obiektu, wyrażającym na ile blisko temu obiektowi do wszystkich pozostałych z jego grupy w stosunku do wszystkich pozostałych z innej (najbliższej grupy).\n",
    "\n",
    "\n",
    "$$s(i) = \\frac{b(i) - a(i)}{\\max(a(i), b(i))}$$\n",
    "​\n",
    "\n",
    "gdzie:\n",
    "\n",
    "- $a(i)$ to średnia odległość obserwacji $x_i$ od pozostałych z jej grupy (*cohesion* - spójność),\n",
    "- $b(i)$ to najmniejsza ze średnich odległości do pozostałych grup (*separation* - rozdzelenie). "
   ]
  },
  {
   "cell_type": "code",
   "execution_count": 2,
   "metadata": {
    "id": "4_mp3GhO77Zd"
   },
   "outputs": [],
   "source": [
    "import pandas as pd\n",
    "import numpy as np\n",
    "from plotnine import *"
   ]
  },
  {
   "cell_type": "code",
   "execution_count": null,
   "metadata": {
    "id": "teUg15BT8OBW"
   },
   "outputs": [],
   "source": [
    "df = pd.DataFrame({\"ai\": np.arange(0.1, 5, 0.2), \"bi\": np.arange(4.9, 0, -0.2)})"
   ]
  },
  {
   "cell_type": "code",
   "execution_count": null,
   "metadata": {
    "colab": {
     "base_uri": "https://localhost:8080/",
     "height": 833
    },
    "id": "ZfACg1fW8OIO",
    "outputId": "6ba05569-3842-4c65-8300-49df808b752a"
   },
   "outputs": [
    {
     "data": {
      "text/html": [
       "\n",
       "  <div id=\"df-ad39404a-2242-4e24-8a8a-e34e87263dd6\">\n",
       "    <div class=\"colab-df-container\">\n",
       "      <div>\n",
       "<style scoped>\n",
       "    .dataframe tbody tr th:only-of-type {\n",
       "        vertical-align: middle;\n",
       "    }\n",
       "\n",
       "    .dataframe tbody tr th {\n",
       "        vertical-align: top;\n",
       "    }\n",
       "\n",
       "    .dataframe thead th {\n",
       "        text-align: right;\n",
       "    }\n",
       "</style>\n",
       "<table border=\"1\" class=\"dataframe\">\n",
       "  <thead>\n",
       "    <tr style=\"text-align: right;\">\n",
       "      <th></th>\n",
       "      <th>ai</th>\n",
       "      <th>bi</th>\n",
       "      <th>roznica</th>\n",
       "      <th>maks</th>\n",
       "      <th>silh</th>\n",
       "    </tr>\n",
       "  </thead>\n",
       "  <tbody>\n",
       "    <tr>\n",
       "      <th>0</th>\n",
       "      <td>0.1</td>\n",
       "      <td>4.9</td>\n",
       "      <td>4.800000e+00</td>\n",
       "      <td>4.9</td>\n",
       "      <td>9.795918e-01</td>\n",
       "    </tr>\n",
       "    <tr>\n",
       "      <th>1</th>\n",
       "      <td>0.3</td>\n",
       "      <td>4.7</td>\n",
       "      <td>4.400000e+00</td>\n",
       "      <td>4.7</td>\n",
       "      <td>9.361702e-01</td>\n",
       "    </tr>\n",
       "    <tr>\n",
       "      <th>2</th>\n",
       "      <td>0.5</td>\n",
       "      <td>4.5</td>\n",
       "      <td>4.000000e+00</td>\n",
       "      <td>4.5</td>\n",
       "      <td>8.888889e-01</td>\n",
       "    </tr>\n",
       "    <tr>\n",
       "      <th>3</th>\n",
       "      <td>0.7</td>\n",
       "      <td>4.3</td>\n",
       "      <td>3.600000e+00</td>\n",
       "      <td>4.3</td>\n",
       "      <td>8.372093e-01</td>\n",
       "    </tr>\n",
       "    <tr>\n",
       "      <th>4</th>\n",
       "      <td>0.9</td>\n",
       "      <td>4.1</td>\n",
       "      <td>3.200000e+00</td>\n",
       "      <td>4.1</td>\n",
       "      <td>7.804878e-01</td>\n",
       "    </tr>\n",
       "    <tr>\n",
       "      <th>5</th>\n",
       "      <td>1.1</td>\n",
       "      <td>3.9</td>\n",
       "      <td>2.800000e+00</td>\n",
       "      <td>3.9</td>\n",
       "      <td>7.179487e-01</td>\n",
       "    </tr>\n",
       "    <tr>\n",
       "      <th>6</th>\n",
       "      <td>1.3</td>\n",
       "      <td>3.7</td>\n",
       "      <td>2.400000e+00</td>\n",
       "      <td>3.7</td>\n",
       "      <td>6.486486e-01</td>\n",
       "    </tr>\n",
       "    <tr>\n",
       "      <th>7</th>\n",
       "      <td>1.5</td>\n",
       "      <td>3.5</td>\n",
       "      <td>2.000000e+00</td>\n",
       "      <td>3.5</td>\n",
       "      <td>5.714286e-01</td>\n",
       "    </tr>\n",
       "    <tr>\n",
       "      <th>8</th>\n",
       "      <td>1.7</td>\n",
       "      <td>3.3</td>\n",
       "      <td>1.600000e+00</td>\n",
       "      <td>3.3</td>\n",
       "      <td>4.848485e-01</td>\n",
       "    </tr>\n",
       "    <tr>\n",
       "      <th>9</th>\n",
       "      <td>1.9</td>\n",
       "      <td>3.1</td>\n",
       "      <td>1.200000e+00</td>\n",
       "      <td>3.1</td>\n",
       "      <td>3.870968e-01</td>\n",
       "    </tr>\n",
       "    <tr>\n",
       "      <th>10</th>\n",
       "      <td>2.1</td>\n",
       "      <td>2.9</td>\n",
       "      <td>8.000000e-01</td>\n",
       "      <td>2.9</td>\n",
       "      <td>2.758621e-01</td>\n",
       "    </tr>\n",
       "    <tr>\n",
       "      <th>11</th>\n",
       "      <td>2.3</td>\n",
       "      <td>2.7</td>\n",
       "      <td>4.000000e-01</td>\n",
       "      <td>2.7</td>\n",
       "      <td>1.481481e-01</td>\n",
       "    </tr>\n",
       "    <tr>\n",
       "      <th>12</th>\n",
       "      <td>2.5</td>\n",
       "      <td>2.5</td>\n",
       "      <td>-2.220446e-15</td>\n",
       "      <td>2.5</td>\n",
       "      <td>-8.881784e-16</td>\n",
       "    </tr>\n",
       "    <tr>\n",
       "      <th>13</th>\n",
       "      <td>2.7</td>\n",
       "      <td>2.3</td>\n",
       "      <td>-4.000000e-01</td>\n",
       "      <td>2.7</td>\n",
       "      <td>-1.481481e-01</td>\n",
       "    </tr>\n",
       "    <tr>\n",
       "      <th>14</th>\n",
       "      <td>2.9</td>\n",
       "      <td>2.1</td>\n",
       "      <td>-8.000000e-01</td>\n",
       "      <td>2.9</td>\n",
       "      <td>-2.758621e-01</td>\n",
       "    </tr>\n",
       "    <tr>\n",
       "      <th>15</th>\n",
       "      <td>3.1</td>\n",
       "      <td>1.9</td>\n",
       "      <td>-1.200000e+00</td>\n",
       "      <td>3.1</td>\n",
       "      <td>-3.870968e-01</td>\n",
       "    </tr>\n",
       "    <tr>\n",
       "      <th>16</th>\n",
       "      <td>3.3</td>\n",
       "      <td>1.7</td>\n",
       "      <td>-1.600000e+00</td>\n",
       "      <td>3.3</td>\n",
       "      <td>-4.848485e-01</td>\n",
       "    </tr>\n",
       "    <tr>\n",
       "      <th>17</th>\n",
       "      <td>3.5</td>\n",
       "      <td>1.5</td>\n",
       "      <td>-2.000000e+00</td>\n",
       "      <td>3.5</td>\n",
       "      <td>-5.714286e-01</td>\n",
       "    </tr>\n",
       "    <tr>\n",
       "      <th>18</th>\n",
       "      <td>3.7</td>\n",
       "      <td>1.3</td>\n",
       "      <td>-2.400000e+00</td>\n",
       "      <td>3.7</td>\n",
       "      <td>-6.486486e-01</td>\n",
       "    </tr>\n",
       "    <tr>\n",
       "      <th>19</th>\n",
       "      <td>3.9</td>\n",
       "      <td>1.1</td>\n",
       "      <td>-2.800000e+00</td>\n",
       "      <td>3.9</td>\n",
       "      <td>-7.179487e-01</td>\n",
       "    </tr>\n",
       "    <tr>\n",
       "      <th>20</th>\n",
       "      <td>4.1</td>\n",
       "      <td>0.9</td>\n",
       "      <td>-3.200000e+00</td>\n",
       "      <td>4.1</td>\n",
       "      <td>-7.804878e-01</td>\n",
       "    </tr>\n",
       "    <tr>\n",
       "      <th>21</th>\n",
       "      <td>4.3</td>\n",
       "      <td>0.7</td>\n",
       "      <td>-3.600000e+00</td>\n",
       "      <td>4.3</td>\n",
       "      <td>-8.372093e-01</td>\n",
       "    </tr>\n",
       "    <tr>\n",
       "      <th>22</th>\n",
       "      <td>4.5</td>\n",
       "      <td>0.5</td>\n",
       "      <td>-4.000000e+00</td>\n",
       "      <td>4.5</td>\n",
       "      <td>-8.888889e-01</td>\n",
       "    </tr>\n",
       "    <tr>\n",
       "      <th>23</th>\n",
       "      <td>4.7</td>\n",
       "      <td>0.3</td>\n",
       "      <td>-4.400000e+00</td>\n",
       "      <td>4.7</td>\n",
       "      <td>-9.361702e-01</td>\n",
       "    </tr>\n",
       "    <tr>\n",
       "      <th>24</th>\n",
       "      <td>4.9</td>\n",
       "      <td>0.1</td>\n",
       "      <td>-4.800000e+00</td>\n",
       "      <td>4.9</td>\n",
       "      <td>-9.795918e-01</td>\n",
       "    </tr>\n",
       "  </tbody>\n",
       "</table>\n",
       "</div>\n",
       "      <button class=\"colab-df-convert\" onclick=\"convertToInteractive('df-ad39404a-2242-4e24-8a8a-e34e87263dd6')\"\n",
       "              title=\"Convert this dataframe to an interactive table.\"\n",
       "              style=\"display:none;\">\n",
       "        \n",
       "  <svg xmlns=\"http://www.w3.org/2000/svg\" height=\"24px\"viewBox=\"0 0 24 24\"\n",
       "       width=\"24px\">\n",
       "    <path d=\"M0 0h24v24H0V0z\" fill=\"none\"/>\n",
       "    <path d=\"M18.56 5.44l.94 2.06.94-2.06 2.06-.94-2.06-.94-.94-2.06-.94 2.06-2.06.94zm-11 1L8.5 8.5l.94-2.06 2.06-.94-2.06-.94L8.5 2.5l-.94 2.06-2.06.94zm10 10l.94 2.06.94-2.06 2.06-.94-2.06-.94-.94-2.06-.94 2.06-2.06.94z\"/><path d=\"M17.41 7.96l-1.37-1.37c-.4-.4-.92-.59-1.43-.59-.52 0-1.04.2-1.43.59L10.3 9.45l-7.72 7.72c-.78.78-.78 2.05 0 2.83L4 21.41c.39.39.9.59 1.41.59.51 0 1.02-.2 1.41-.59l7.78-7.78 2.81-2.81c.8-.78.8-2.07 0-2.86zM5.41 20L4 18.59l7.72-7.72 1.47 1.35L5.41 20z\"/>\n",
       "  </svg>\n",
       "      </button>\n",
       "      \n",
       "  <style>\n",
       "    .colab-df-container {\n",
       "      display:flex;\n",
       "      flex-wrap:wrap;\n",
       "      gap: 12px;\n",
       "    }\n",
       "\n",
       "    .colab-df-convert {\n",
       "      background-color: #E8F0FE;\n",
       "      border: none;\n",
       "      border-radius: 50%;\n",
       "      cursor: pointer;\n",
       "      display: none;\n",
       "      fill: #1967D2;\n",
       "      height: 32px;\n",
       "      padding: 0 0 0 0;\n",
       "      width: 32px;\n",
       "    }\n",
       "\n",
       "    .colab-df-convert:hover {\n",
       "      background-color: #E2EBFA;\n",
       "      box-shadow: 0px 1px 2px rgba(60, 64, 67, 0.3), 0px 1px 3px 1px rgba(60, 64, 67, 0.15);\n",
       "      fill: #174EA6;\n",
       "    }\n",
       "\n",
       "    [theme=dark] .colab-df-convert {\n",
       "      background-color: #3B4455;\n",
       "      fill: #D2E3FC;\n",
       "    }\n",
       "\n",
       "    [theme=dark] .colab-df-convert:hover {\n",
       "      background-color: #434B5C;\n",
       "      box-shadow: 0px 1px 3px 1px rgba(0, 0, 0, 0.15);\n",
       "      filter: drop-shadow(0px 1px 2px rgba(0, 0, 0, 0.3));\n",
       "      fill: #FFFFFF;\n",
       "    }\n",
       "  </style>\n",
       "\n",
       "      <script>\n",
       "        const buttonEl =\n",
       "          document.querySelector('#df-ad39404a-2242-4e24-8a8a-e34e87263dd6 button.colab-df-convert');\n",
       "        buttonEl.style.display =\n",
       "          google.colab.kernel.accessAllowed ? 'block' : 'none';\n",
       "\n",
       "        async function convertToInteractive(key) {\n",
       "          const element = document.querySelector('#df-ad39404a-2242-4e24-8a8a-e34e87263dd6');\n",
       "          const dataTable =\n",
       "            await google.colab.kernel.invokeFunction('convertToInteractive',\n",
       "                                                     [key], {});\n",
       "          if (!dataTable) return;\n",
       "\n",
       "          const docLinkHtml = 'Like what you see? Visit the ' +\n",
       "            '<a target=\"_blank\" href=https://colab.research.google.com/notebooks/data_table.ipynb>data table notebook</a>'\n",
       "            + ' to learn more about interactive tables.';\n",
       "          element.innerHTML = '';\n",
       "          dataTable['output_type'] = 'display_data';\n",
       "          await google.colab.output.renderOutput(dataTable, element);\n",
       "          const docLink = document.createElement('div');\n",
       "          docLink.innerHTML = docLinkHtml;\n",
       "          element.appendChild(docLink);\n",
       "        }\n",
       "      </script>\n",
       "    </div>\n",
       "  </div>\n",
       "  "
      ],
      "text/plain": [
       "     ai   bi       roznica  maks          silh\n",
       "0   0.1  4.9  4.800000e+00   4.9  9.795918e-01\n",
       "1   0.3  4.7  4.400000e+00   4.7  9.361702e-01\n",
       "2   0.5  4.5  4.000000e+00   4.5  8.888889e-01\n",
       "3   0.7  4.3  3.600000e+00   4.3  8.372093e-01\n",
       "4   0.9  4.1  3.200000e+00   4.1  7.804878e-01\n",
       "5   1.1  3.9  2.800000e+00   3.9  7.179487e-01\n",
       "6   1.3  3.7  2.400000e+00   3.7  6.486486e-01\n",
       "7   1.5  3.5  2.000000e+00   3.5  5.714286e-01\n",
       "8   1.7  3.3  1.600000e+00   3.3  4.848485e-01\n",
       "9   1.9  3.1  1.200000e+00   3.1  3.870968e-01\n",
       "10  2.1  2.9  8.000000e-01   2.9  2.758621e-01\n",
       "11  2.3  2.7  4.000000e-01   2.7  1.481481e-01\n",
       "12  2.5  2.5 -2.220446e-15   2.5 -8.881784e-16\n",
       "13  2.7  2.3 -4.000000e-01   2.7 -1.481481e-01\n",
       "14  2.9  2.1 -8.000000e-01   2.9 -2.758621e-01\n",
       "15  3.1  1.9 -1.200000e+00   3.1 -3.870968e-01\n",
       "16  3.3  1.7 -1.600000e+00   3.3 -4.848485e-01\n",
       "17  3.5  1.5 -2.000000e+00   3.5 -5.714286e-01\n",
       "18  3.7  1.3 -2.400000e+00   3.7 -6.486486e-01\n",
       "19  3.9  1.1 -2.800000e+00   3.9 -7.179487e-01\n",
       "20  4.1  0.9 -3.200000e+00   4.1 -7.804878e-01\n",
       "21  4.3  0.7 -3.600000e+00   4.3 -8.372093e-01\n",
       "22  4.5  0.5 -4.000000e+00   4.5 -8.888889e-01\n",
       "23  4.7  0.3 -4.400000e+00   4.7 -9.361702e-01\n",
       "24  4.9  0.1 -4.800000e+00   4.9 -9.795918e-01"
      ]
     },
     "execution_count": 4,
     "metadata": {},
     "output_type": "execute_result"
    }
   ],
   "source": [
    "df"
   ]
  },
  {
   "cell_type": "code",
   "execution_count": null,
   "metadata": {
    "id": "mbVw-HW88OOV"
   },
   "outputs": [],
   "source": [
    "df['roznica'] = df.bi-df.ai\n",
    "df['maks'] = df.max(axis = 1)\n",
    "df['silh'] = df.roznica/df.maks"
   ]
  },
  {
   "cell_type": "code",
   "execution_count": null,
   "metadata": {
    "id": "RnF-ZjwV8OUb"
   },
   "outputs": [],
   "source": [
    "round(df.silh, 2)"
   ]
  },
  {
   "cell_type": "code",
   "execution_count": null,
   "metadata": {
    "id": "U72bxGDRFNkA"
   },
   "outputs": [],
   "source": [
    "df['silh_abs'] = df.silh.abs()"
   ]
  },
  {
   "cell_type": "markdown",
   "metadata": {
    "id": "BMKbUjYwF4FX"
   },
   "source": [
    "## Interpretacja\n",
    "\n",
    "Im bliższa $s(i)$  wartości 1, tym bardziej dany obiekt pasuje do swojej grupy, im bliższa wartości -1, tym bliżej temu obiektowi do grupy sąsiedniej. $s(i)$ bliskie 0 oznacza, że punkt znajduje się pomiędzy dwoma skupieniami."
   ]
  },
  {
   "cell_type": "code",
   "execution_count": null,
   "metadata": {
    "colab": {
     "base_uri": "https://localhost:8080/",
     "height": 477
    },
    "id": "QIsYHoaX8Oab",
    "outputId": "d70e30dc-20a2-4ab1-f1bd-e4244068a3e9"
   },
   "outputs": [
    {
     "data": {
      "image/png": "[encoded data removed]",
      "text/plain": [
       "<Figure size 640x480 with 1 Axes>"
      ]
     },
     "metadata": {
      "needs_background": "light"
     },
     "output_type": "display_data"
    },
    {
     "data": {
      "text/plain": [
       "<ggplot: (8749965746557)>"
      ]
     },
     "execution_count": 8,
     "metadata": {},
     "output_type": "execute_result"
    }
   ],
   "source": [
    "(ggplot(df, aes(x = 'ai', y ='bi', color = 'silh', size = 'silh_abs')) +\n",
    " geom_point() +\n",
    " scale_color_gradient(low = 'red', high = 'green') +\n",
    " theme_minimal())"
   ]
  },
  {
   "cell_type": "markdown",
   "metadata": {
    "id": "OJW9wNk7WhPP"
   },
   "source": [
    "## Przykład"
   ]
  },
  {
   "cell_type": "code",
   "execution_count": 4,
   "metadata": {
    "id": "fSHN75UtWjlZ"
   },
   "outputs": [],
   "source": [
    "from sklearn.cluster import KMeans\n",
    "from sklearn.metrics import silhouette_score\n",
    "\n",
    "from sklearn.datasets import make_blobs"
   ]
  },
  {
   "cell_type": "code",
   "execution_count": 5,
   "metadata": {
    "id": "SpRCDEoyWsAA"
   },
   "outputs": [],
   "source": [
    "n = 100\n",
    "\n",
    "centra = [(-6,-6), (0, 0), (6, 6), (9, 9)]\n",
    "\n",
    "X, y = make_blobs(n_samples = n, n_features = 2, centers = centra, cluster_std = 1, random_state = 0)"
   ]
  },
  {
   "cell_type": "code",
   "execution_count": 6,
   "metadata": {
    "id": "oq0X_g9RWsws"
   },
   "outputs": [],
   "source": [
    "df = pd.DataFrame(X, columns = ['x1', 'x2'])\n",
    "df['Grupy'] = y\n",
    "# tutaj moze czegos brakowac bo bylo copy paste z poprzedniego"
   ]
  },
  {
   "cell_type": "code",
   "execution_count": 7,
   "metadata": {
    "id": "j0miMYflWtP1"
   },
   "outputs": [],
   "source": [
    "ks = range(2, 20)\n",
    "sylwetki = []\n",
    "\n",
    "for k in ks:\n",
    "    km = KMeans(n_clusters=k).fit(df[['x1', 'x2']])\n",
    "    sylwetki.append(silhouette_score(df[['x1', 'x2']], km.predict(df[['x1', 'x2']])))"
   ]
  },
  {
   "cell_type": "code",
   "execution_count": 14,
   "metadata": {},
   "outputs": [
    {
     "data": {
      "text/plain": [
       "100"
      ]
     },
     "execution_count": 14,
     "metadata": {},
     "output_type": "execute_result"
    }
   ],
   "source": [
    "len(km.labels_)"
   ]
  },
  {
   "cell_type": "code",
   "execution_count": 8,
   "metadata": {
    "id": "jj3XIdwXWxQ2"
   },
   "outputs": [
    {
     "data": {
      "text/plain": [
       "[0.7112713659612682,\n",
       " 0.7469616885065368,\n",
       " 0.6594757955137404,\n",
       " 0.5985759905965807,\n",
       " 0.5008992901537771,\n",
       " 0.4887937520194054,\n",
       " 0.34291567389393557,\n",
       " 0.4806197118362609,\n",
       " 0.37296862257340996,\n",
       " 0.37319028137216875,\n",
       " 0.36764847803379647,\n",
       " 0.3925890035311303,\n",
       " 0.3463070301482557,\n",
       " 0.3755449616854738,\n",
       " 0.3659001540304157,\n",
       " 0.3654193249094037,\n",
       " 0.3706886392613859,\n",
       " 0.38319986991757793]"
      ]
     },
     "execution_count": 8,
     "metadata": {},
     "output_type": "execute_result"
    }
   ],
   "source": [
    "sylwetki"
   ]
  },
  {
   "cell_type": "code",
   "execution_count": 9,
   "metadata": {
    "id": "eiqa21jTqJll"
   },
   "outputs": [],
   "source": [
    "sylwetki_df = pd.DataFrame({'K' : ks,\n",
    "                           'Sylwetka' : sylwetki})"
   ]
  },
  {
   "cell_type": "code",
   "execution_count": 10,
   "metadata": {
    "colab": {
     "base_uri": "https://localhost:8080/",
     "height": 503
    },
    "id": "s083LWOKqR9r",
    "outputId": "8616a58d-8529-4c10-a93b-d8ae89fc2a21"
   },
   "outputs": [
    {
     "data": {
      "image/png": "[encoded data removed]",
      "text/plain": [
       "<Figure size 432x288 with 1 Axes>"
      ]
     },
     "metadata": {
      "needs_background": "light"
     },
     "output_type": "display_data"
    },
    {
     "data": {
      "text/plain": [
       "<ggplot: (167946534903)>"
      ]
     },
     "execution_count": 10,
     "metadata": {},
     "output_type": "execute_result"
    }
   ],
   "source": [
    "(ggplot(sylwetki_df, aes(x = 'K', y = 'Sylwetka')) +\n",
    " geom_point() + geom_line() +\n",
    " scale_x_continuous(breaks = ks) +\n",
    " theme_minimal() +\n",
    " labs(title = \"Sylwetka dla kolejnych K\"))"
   ]
  },
  {
   "cell_type": "code",
   "execution_count": null,
   "metadata": {},
   "outputs": [],
   "source": []
  }
 ],
 "metadata": {
  "colab": {
   "collapsed_sections": [],
   "provenance": []
  },
  "kernelspec": {
   "display_name": "Python 3",
   "language": "python",
   "name": "python3"
  },
  "language_info": {
   "codemirror_mode": {
    "name": "ipython",
    "version": 3
   },
   "file_extension": ".py",
   "mimetype": "text/x-python",
   "name": "python",
   "nbconvert_exporter": "python",
   "pygments_lexer": "ipython3",
   "version": "3.8.8"
  }
 },
 "nbformat": 4,
 "nbformat_minor": 1
}
