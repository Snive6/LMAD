{
 "nbformat": 4,
 "nbformat_minor": 0,
 "metadata": {
  "colab": {
   "provenance": [
    {
     "file_id": "1QM_g6Kmom9YBegI2LiTyWeEuaa04nmew",
     "timestamp": 1665443384068
    }
   ],
   "collapsed_sections": [],
   "authorship_tag": "ABX9TyO5xv/YmYIWlvMgmY3qK2mO"
  },
  "kernelspec": {
   "name": "python3",
   "display_name": "Python 3"
  },
  "language_info": {
   "name": "python"
  }
 },
 "cells": [
  {
   "cell_type": "markdown",
   "source": [
    "## Indeks silhouette\n",
    "\n",
    "jest indeksem obliczanym dla każdego obiektu, wyrażającym na ile blisko temu obiektowi do wszystkich pozostałych z jego grupy w stosunku do wszystkich pozostałych z innej (najbliższej grupy).\n",
    "\n",
    "\n",
    "$$s(i) = \\frac{b(i) - a(i)}{\\max(a(i), b(i))}$$\n",
    "​\n",
    "\n",
    "gdzie:\n",
    "\n",
    "- $a(i)$ to średnia odległość obserwacji $x_i$ od pozostałych z jej grupy (*cohesion* - spójność),\n",
    "- $b(i)$ to najmniejsza ze średnich odległości do pozostałych grup (*separation* - rozdzelenie)."
   ],
   "metadata": {
    "id": "zNK7fxS1DX0J"
   }
  },
  {
   "cell_type": "code",
   "execution_count": 14,
   "metadata": {
    "id": "4_mp3GhO77Zd"
   },
   "outputs": [
    {
     "ename": "ModuleNotFoundError",
     "evalue": "No module named 'plotnine'",
     "output_type": "error",
     "traceback": [
      "\u001B[1;31m---------------------------------------------------------------------------\u001B[0m",
      "\u001B[1;31mModuleNotFoundError\u001B[0m                       Traceback (most recent call last)",
      "\u001B[1;32m<ipython-input-14-5c5b7273d1bf>\u001B[0m in \u001B[0;36m<module>\u001B[1;34m\u001B[0m\n\u001B[0;32m      1\u001B[0m \u001B[1;32mimport\u001B[0m \u001B[0mpandas\u001B[0m \u001B[1;32mas\u001B[0m \u001B[0mpd\u001B[0m\u001B[1;33m\u001B[0m\u001B[1;33m\u001B[0m\u001B[0m\n\u001B[0;32m      2\u001B[0m \u001B[1;32mimport\u001B[0m \u001B[0mnumpy\u001B[0m \u001B[1;32mas\u001B[0m \u001B[0mnp\u001B[0m\u001B[1;33m\u001B[0m\u001B[1;33m\u001B[0m\u001B[0m\n\u001B[1;32m----> 3\u001B[1;33m \u001B[1;32mfrom\u001B[0m \u001B[0mplotnine\u001B[0m \u001B[1;32mimport\u001B[0m \u001B[1;33m*\u001B[0m\u001B[1;33m\u001B[0m\u001B[1;33m\u001B[0m\u001B[0m\n\u001B[0m",
      "\u001B[1;31mModuleNotFoundError\u001B[0m: No module named 'plotnine'"
     ]
    }
   ],
   "source": [
    "import pandas as pd\n",
    "import numpy as np\n",
    "# from plotnine import *"
   ]
  },
  {
   "cell_type": "code",
   "source": [
    "df = pd.DataFrame({\"ai\": np.arange(0.1, 5, 0.2), \"bi\": np.arange(4.9, 0, -0.2)})"
   ],
   "metadata": {
    "id": "teUg15BT8OBW"
   },
   "execution_count": 3,
   "outputs": []
  },
  {
   "cell_type": "code",
   "source": [
    "df"
   ],
   "metadata": {
    "id": "ZfACg1fW8OIO"
   },
   "execution_count": 4,
   "outputs": [
    {
     "data": {
      "text/plain": "     ai   bi\n0   0.1  4.9\n1   0.3  4.7\n2   0.5  4.5\n3   0.7  4.3\n4   0.9  4.1\n5   1.1  3.9\n6   1.3  3.7\n7   1.5  3.5\n8   1.7  3.3\n9   1.9  3.1\n10  2.1  2.9\n11  2.3  2.7\n12  2.5  2.5\n13  2.7  2.3\n14  2.9  2.1\n15  3.1  1.9\n16  3.3  1.7\n17  3.5  1.5\n18  3.7  1.3\n19  3.9  1.1\n20  4.1  0.9\n21  4.3  0.7\n22  4.5  0.5\n23  4.7  0.3\n24  4.9  0.1",
      "text/html": "<div>\n<style scoped>\n    .dataframe tbody tr th:only-of-type {\n        vertical-align: middle;\n    }\n\n    .dataframe tbody tr th {\n        vertical-align: top;\n    }\n\n    .dataframe thead th {\n        text-align: right;\n    }\n</style>\n<table border=\"1\" class=\"dataframe\">\n  <thead>\n    <tr style=\"text-align: right;\">\n      <th></th>\n      <th>ai</th>\n      <th>bi</th>\n    </tr>\n  </thead>\n  <tbody>\n    <tr>\n      <th>0</th>\n      <td>0.1</td>\n      <td>4.9</td>\n    </tr>\n    <tr>\n      <th>1</th>\n      <td>0.3</td>\n      <td>4.7</td>\n    </tr>\n    <tr>\n      <th>2</th>\n      <td>0.5</td>\n      <td>4.5</td>\n    </tr>\n    <tr>\n      <th>3</th>\n      <td>0.7</td>\n      <td>4.3</td>\n    </tr>\n    <tr>\n      <th>4</th>\n      <td>0.9</td>\n      <td>4.1</td>\n    </tr>\n    <tr>\n      <th>5</th>\n      <td>1.1</td>\n      <td>3.9</td>\n    </tr>\n    <tr>\n      <th>6</th>\n      <td>1.3</td>\n      <td>3.7</td>\n    </tr>\n    <tr>\n      <th>7</th>\n      <td>1.5</td>\n      <td>3.5</td>\n    </tr>\n    <tr>\n      <th>8</th>\n      <td>1.7</td>\n      <td>3.3</td>\n    </tr>\n    <tr>\n      <th>9</th>\n      <td>1.9</td>\n      <td>3.1</td>\n    </tr>\n    <tr>\n      <th>10</th>\n      <td>2.1</td>\n      <td>2.9</td>\n    </tr>\n    <tr>\n      <th>11</th>\n      <td>2.3</td>\n      <td>2.7</td>\n    </tr>\n    <tr>\n      <th>12</th>\n      <td>2.5</td>\n      <td>2.5</td>\n    </tr>\n    <tr>\n      <th>13</th>\n      <td>2.7</td>\n      <td>2.3</td>\n    </tr>\n    <tr>\n      <th>14</th>\n      <td>2.9</td>\n      <td>2.1</td>\n    </tr>\n    <tr>\n      <th>15</th>\n      <td>3.1</td>\n      <td>1.9</td>\n    </tr>\n    <tr>\n      <th>16</th>\n      <td>3.3</td>\n      <td>1.7</td>\n    </tr>\n    <tr>\n      <th>17</th>\n      <td>3.5</td>\n      <td>1.5</td>\n    </tr>\n    <tr>\n      <th>18</th>\n      <td>3.7</td>\n      <td>1.3</td>\n    </tr>\n    <tr>\n      <th>19</th>\n      <td>3.9</td>\n      <td>1.1</td>\n    </tr>\n    <tr>\n      <th>20</th>\n      <td>4.1</td>\n      <td>0.9</td>\n    </tr>\n    <tr>\n      <th>21</th>\n      <td>4.3</td>\n      <td>0.7</td>\n    </tr>\n    <tr>\n      <th>22</th>\n      <td>4.5</td>\n      <td>0.5</td>\n    </tr>\n    <tr>\n      <th>23</th>\n      <td>4.7</td>\n      <td>0.3</td>\n    </tr>\n    <tr>\n      <th>24</th>\n      <td>4.9</td>\n      <td>0.1</td>\n    </tr>\n  </tbody>\n</table>\n</div>"
     },
     "execution_count": 4,
     "metadata": {},
     "output_type": "execute_result"
    }
   ]
  },
  {
   "cell_type": "code",
   "source": [
    "df['roznica'] = df.bi - df.ai\n",
    "df['maks'] = df.max(axis=1)\n",
    "df['silh'] = df.roznica / df.maks"
   ],
   "metadata": {
    "id": "mbVw-HW88OOV"
   },
   "execution_count": 5,
   "outputs": []
  },
  {
   "cell_type": "code",
   "source": [
    "df['silh_abs'] = df.silh.abs()"
   ],
   "metadata": {
    "id": "RnF-ZjwV8OUb"
   },
   "execution_count": 8,
   "outputs": []
  },
  {
   "cell_type": "code",
   "source": [
    "df"
   ],
   "metadata": {
    "id": "U72bxGDRFNkA"
   },
   "execution_count": 9,
   "outputs": [
    {
     "data": {
      "text/plain": "     ai   bi       roznica  maks          silh      silh_abs\n0   0.1  4.9  4.800000e+00   4.9  9.795918e-01  9.795918e-01\n1   0.3  4.7  4.400000e+00   4.7  9.361702e-01  9.361702e-01\n2   0.5  4.5  4.000000e+00   4.5  8.888889e-01  8.888889e-01\n3   0.7  4.3  3.600000e+00   4.3  8.372093e-01  8.372093e-01\n4   0.9  4.1  3.200000e+00   4.1  7.804878e-01  7.804878e-01\n5   1.1  3.9  2.800000e+00   3.9  7.179487e-01  7.179487e-01\n6   1.3  3.7  2.400000e+00   3.7  6.486486e-01  6.486486e-01\n7   1.5  3.5  2.000000e+00   3.5  5.714286e-01  5.714286e-01\n8   1.7  3.3  1.600000e+00   3.3  4.848485e-01  4.848485e-01\n9   1.9  3.1  1.200000e+00   3.1  3.870968e-01  3.870968e-01\n10  2.1  2.9  8.000000e-01   2.9  2.758621e-01  2.758621e-01\n11  2.3  2.7  4.000000e-01   2.7  1.481481e-01  1.481481e-01\n12  2.5  2.5 -2.220446e-15   2.5 -8.881784e-16  8.881784e-16\n13  2.7  2.3 -4.000000e-01   2.7 -1.481481e-01  1.481481e-01\n14  2.9  2.1 -8.000000e-01   2.9 -2.758621e-01  2.758621e-01\n15  3.1  1.9 -1.200000e+00   3.1 -3.870968e-01  3.870968e-01\n16  3.3  1.7 -1.600000e+00   3.3 -4.848485e-01  4.848485e-01\n17  3.5  1.5 -2.000000e+00   3.5 -5.714286e-01  5.714286e-01\n18  3.7  1.3 -2.400000e+00   3.7 -6.486486e-01  6.486486e-01\n19  3.9  1.1 -2.800000e+00   3.9 -7.179487e-01  7.179487e-01\n20  4.1  0.9 -3.200000e+00   4.1 -7.804878e-01  7.804878e-01\n21  4.3  0.7 -3.600000e+00   4.3 -8.372093e-01  8.372093e-01\n22  4.5  0.5 -4.000000e+00   4.5 -8.888889e-01  8.888889e-01\n23  4.7  0.3 -4.400000e+00   4.7 -9.361702e-01  9.361702e-01\n24  4.9  0.1 -4.800000e+00   4.9 -9.795918e-01  9.795918e-01",
      "text/html": "<div>\n<style scoped>\n    .dataframe tbody tr th:only-of-type {\n        vertical-align: middle;\n    }\n\n    .dataframe tbody tr th {\n        vertical-align: top;\n    }\n\n    .dataframe thead th {\n        text-align: right;\n    }\n</style>\n<table border=\"1\" class=\"dataframe\">\n  <thead>\n    <tr style=\"text-align: right;\">\n      <th></th>\n      <th>ai</th>\n      <th>bi</th>\n      <th>roznica</th>\n      <th>maks</th>\n      <th>silh</th>\n      <th>silh_abs</th>\n    </tr>\n  </thead>\n  <tbody>\n    <tr>\n      <th>0</th>\n      <td>0.1</td>\n      <td>4.9</td>\n      <td>4.800000e+00</td>\n      <td>4.9</td>\n      <td>9.795918e-01</td>\n      <td>9.795918e-01</td>\n    </tr>\n    <tr>\n      <th>1</th>\n      <td>0.3</td>\n      <td>4.7</td>\n      <td>4.400000e+00</td>\n      <td>4.7</td>\n      <td>9.361702e-01</td>\n      <td>9.361702e-01</td>\n    </tr>\n    <tr>\n      <th>2</th>\n      <td>0.5</td>\n      <td>4.5</td>\n      <td>4.000000e+00</td>\n      <td>4.5</td>\n      <td>8.888889e-01</td>\n      <td>8.888889e-01</td>\n    </tr>\n    <tr>\n      <th>3</th>\n      <td>0.7</td>\n      <td>4.3</td>\n      <td>3.600000e+00</td>\n      <td>4.3</td>\n      <td>8.372093e-01</td>\n      <td>8.372093e-01</td>\n    </tr>\n    <tr>\n      <th>4</th>\n      <td>0.9</td>\n      <td>4.1</td>\n      <td>3.200000e+00</td>\n      <td>4.1</td>\n      <td>7.804878e-01</td>\n      <td>7.804878e-01</td>\n    </tr>\n    <tr>\n      <th>5</th>\n      <td>1.1</td>\n      <td>3.9</td>\n      <td>2.800000e+00</td>\n      <td>3.9</td>\n      <td>7.179487e-01</td>\n      <td>7.179487e-01</td>\n    </tr>\n    <tr>\n      <th>6</th>\n      <td>1.3</td>\n      <td>3.7</td>\n      <td>2.400000e+00</td>\n      <td>3.7</td>\n      <td>6.486486e-01</td>\n      <td>6.486486e-01</td>\n    </tr>\n    <tr>\n      <th>7</th>\n      <td>1.5</td>\n      <td>3.5</td>\n      <td>2.000000e+00</td>\n      <td>3.5</td>\n      <td>5.714286e-01</td>\n      <td>5.714286e-01</td>\n    </tr>\n    <tr>\n      <th>8</th>\n      <td>1.7</td>\n      <td>3.3</td>\n      <td>1.600000e+00</td>\n      <td>3.3</td>\n      <td>4.848485e-01</td>\n      <td>4.848485e-01</td>\n    </tr>\n    <tr>\n      <th>9</th>\n      <td>1.9</td>\n      <td>3.1</td>\n      <td>1.200000e+00</td>\n      <td>3.1</td>\n      <td>3.870968e-01</td>\n      <td>3.870968e-01</td>\n    </tr>\n    <tr>\n      <th>10</th>\n      <td>2.1</td>\n      <td>2.9</td>\n      <td>8.000000e-01</td>\n      <td>2.9</td>\n      <td>2.758621e-01</td>\n      <td>2.758621e-01</td>\n    </tr>\n    <tr>\n      <th>11</th>\n      <td>2.3</td>\n      <td>2.7</td>\n      <td>4.000000e-01</td>\n      <td>2.7</td>\n      <td>1.481481e-01</td>\n      <td>1.481481e-01</td>\n    </tr>\n    <tr>\n      <th>12</th>\n      <td>2.5</td>\n      <td>2.5</td>\n      <td>-2.220446e-15</td>\n      <td>2.5</td>\n      <td>-8.881784e-16</td>\n      <td>8.881784e-16</td>\n    </tr>\n    <tr>\n      <th>13</th>\n      <td>2.7</td>\n      <td>2.3</td>\n      <td>-4.000000e-01</td>\n      <td>2.7</td>\n      <td>-1.481481e-01</td>\n      <td>1.481481e-01</td>\n    </tr>\n    <tr>\n      <th>14</th>\n      <td>2.9</td>\n      <td>2.1</td>\n      <td>-8.000000e-01</td>\n      <td>2.9</td>\n      <td>-2.758621e-01</td>\n      <td>2.758621e-01</td>\n    </tr>\n    <tr>\n      <th>15</th>\n      <td>3.1</td>\n      <td>1.9</td>\n      <td>-1.200000e+00</td>\n      <td>3.1</td>\n      <td>-3.870968e-01</td>\n      <td>3.870968e-01</td>\n    </tr>\n    <tr>\n      <th>16</th>\n      <td>3.3</td>\n      <td>1.7</td>\n      <td>-1.600000e+00</td>\n      <td>3.3</td>\n      <td>-4.848485e-01</td>\n      <td>4.848485e-01</td>\n    </tr>\n    <tr>\n      <th>17</th>\n      <td>3.5</td>\n      <td>1.5</td>\n      <td>-2.000000e+00</td>\n      <td>3.5</td>\n      <td>-5.714286e-01</td>\n      <td>5.714286e-01</td>\n    </tr>\n    <tr>\n      <th>18</th>\n      <td>3.7</td>\n      <td>1.3</td>\n      <td>-2.400000e+00</td>\n      <td>3.7</td>\n      <td>-6.486486e-01</td>\n      <td>6.486486e-01</td>\n    </tr>\n    <tr>\n      <th>19</th>\n      <td>3.9</td>\n      <td>1.1</td>\n      <td>-2.800000e+00</td>\n      <td>3.9</td>\n      <td>-7.179487e-01</td>\n      <td>7.179487e-01</td>\n    </tr>\n    <tr>\n      <th>20</th>\n      <td>4.1</td>\n      <td>0.9</td>\n      <td>-3.200000e+00</td>\n      <td>4.1</td>\n      <td>-7.804878e-01</td>\n      <td>7.804878e-01</td>\n    </tr>\n    <tr>\n      <th>21</th>\n      <td>4.3</td>\n      <td>0.7</td>\n      <td>-3.600000e+00</td>\n      <td>4.3</td>\n      <td>-8.372093e-01</td>\n      <td>8.372093e-01</td>\n    </tr>\n    <tr>\n      <th>22</th>\n      <td>4.5</td>\n      <td>0.5</td>\n      <td>-4.000000e+00</td>\n      <td>4.5</td>\n      <td>-8.888889e-01</td>\n      <td>8.888889e-01</td>\n    </tr>\n    <tr>\n      <th>23</th>\n      <td>4.7</td>\n      <td>0.3</td>\n      <td>-4.400000e+00</td>\n      <td>4.7</td>\n      <td>-9.361702e-01</td>\n      <td>9.361702e-01</td>\n    </tr>\n    <tr>\n      <th>24</th>\n      <td>4.9</td>\n      <td>0.1</td>\n      <td>-4.800000e+00</td>\n      <td>4.9</td>\n      <td>-9.795918e-01</td>\n      <td>9.795918e-01</td>\n    </tr>\n  </tbody>\n</table>\n</div>"
     },
     "execution_count": 9,
     "metadata": {},
     "output_type": "execute_result"
    }
   ]
  },
  {
   "cell_type": "markdown",
   "source": [
    "## Interpretacja\n",
    "\n",
    "Im bliższa $s(i)$  wartości 1, tym bardziej dany obiekt pasuje do swojej grupy, im bliższa wartości -1, tym bliżej temu obiektowi do grupy sąsiedniej. $s(i)$ bliskie 0 oznacza, że punkt znajduje się pomiędzy dwoma skupieniami."
   ],
   "metadata": {
    "id": "BMKbUjYwF4FX"
   }
  },
  {
   "cell_type": "code",
   "source": [
    "(ggplot(df, aes(x ='ai', y = 'bi', color = 'silh', size = 'silh_abs')) +\n",
    " geom_point() +\n",
    " scale_color_gradient(low='red', high = 'green')\n",
    " theme_minimal())"
   ],
   "metadata": {
    "id": "QIsYHoaX8Oab"
   },
   "execution_count": 10,
   "outputs": [
    {
     "ename": "NameError",
     "evalue": "name 'ggplot' is not defined",
     "output_type": "error",
     "traceback": [
      "\u001B[1;31m---------------------------------------------------------------------------\u001B[0m",
      "\u001B[1;31mNameError\u001B[0m                                 Traceback (most recent call last)",
      "\u001B[1;32m<ipython-input-10-011ecabb8e88>\u001B[0m in \u001B[0;36m<module>\u001B[1;34m\u001B[0m\n\u001B[1;32m----> 1\u001B[1;33m (ggplot(df, aes(x ='ai', y = 'bi', color = 'silh')) +\n\u001B[0m\u001B[0;32m      2\u001B[0m  \u001B[0mgeom_point\u001B[0m\u001B[1;33m(\u001B[0m\u001B[1;33m)\u001B[0m \u001B[1;33m+\u001B[0m\u001B[1;33m\u001B[0m\u001B[1;33m\u001B[0m\u001B[0m\n\u001B[0;32m      3\u001B[0m  theme_minimal())\n",
      "\u001B[1;31mNameError\u001B[0m: name 'ggplot' is not defined"
     ]
    }
   ]
  },
  {
   "cell_type": "markdown",
   "source": [
    "## Przykład"
   ],
   "metadata": {
    "id": "OJW9wNk7WhPP"
   }
  },
  {
   "cell_type": "code",
   "source": [
    "from sklearn.cluster import KMeans\n",
    "from sklearn.metrics import silhouette_score\n",
    "\n",
    "from sklearn.datasets import make_blobs"
   ],
   "metadata": {
    "id": "fSHN75UtWjlZ"
   },
   "execution_count": 26,
   "outputs": []
  },
  {
   "cell_type": "code",
   "source": [
    "n = 100\n",
    "\n",
    "centra = [(-6,-6), (0,0), (6,6), (9,9)]\n",
    "\n",
    "X, y = make_blobs(n_samples=n, n_features=2, centers=centra, cluster_std=1, random_state=0)"
   ],
   "metadata": {
    "id": "SpRCDEoyWsAA"
   },
   "execution_count": 18,
   "outputs": []
  },
  {
   "cell_type": "code",
   "source": [
    "df = pd.DataFrame(X, columns = ['x1', 'x2'])\n",
    "df['Grupy'] = y"
   ],
   "metadata": {
    "id": "oq0X_g9RWsws"
   },
   "execution_count": 19,
   "outputs": []
  },
  {
   "cell_type": "code",
   "source": [
    "ks = range(2, 20)\n",
    "sylwetki = []\n",
    "\n",
    "for k in ks:\n",
    "    km = KMeans(n_clusters = k).fit(df[['x1', 'x2']])\n",
    "    sylwetki.append(km.silhouette_score(), km.predict(df[['x1', 'x2']])) # km.labels_"
   ],
   "metadata": {
    "id": "j0miMYflWtP1"
   },
   "execution_count": 29,
   "outputs": [
    {
     "ename": "AttributeError",
     "evalue": "'KMeans' object has no attribute 'silhouette_score'",
     "output_type": "error",
     "traceback": [
      "\u001B[1;31m---------------------------------------------------------------------------\u001B[0m",
      "\u001B[1;31mAttributeError\u001B[0m                            Traceback (most recent call last)",
      "\u001B[1;32m<ipython-input-29-a311bd9b2457>\u001B[0m in \u001B[0;36m<module>\u001B[1;34m\u001B[0m\n\u001B[0;32m      4\u001B[0m \u001B[1;32mfor\u001B[0m \u001B[0mk\u001B[0m \u001B[1;32min\u001B[0m \u001B[0mks\u001B[0m\u001B[1;33m:\u001B[0m\u001B[1;33m\u001B[0m\u001B[1;33m\u001B[0m\u001B[0m\n\u001B[0;32m      5\u001B[0m     \u001B[0mkm\u001B[0m \u001B[1;33m=\u001B[0m \u001B[0mKMeans\u001B[0m\u001B[1;33m(\u001B[0m\u001B[0mn_clusters\u001B[0m \u001B[1;33m=\u001B[0m \u001B[0mk\u001B[0m\u001B[1;33m)\u001B[0m\u001B[1;33m.\u001B[0m\u001B[0mfit\u001B[0m\u001B[1;33m(\u001B[0m\u001B[0mdf\u001B[0m\u001B[1;33m[\u001B[0m\u001B[1;33m[\u001B[0m\u001B[1;34m'x1'\u001B[0m\u001B[1;33m,\u001B[0m \u001B[1;34m'x2'\u001B[0m\u001B[1;33m]\u001B[0m\u001B[1;33m]\u001B[0m\u001B[1;33m)\u001B[0m\u001B[1;33m\u001B[0m\u001B[1;33m\u001B[0m\u001B[0m\n\u001B[1;32m----> 6\u001B[1;33m     \u001B[0msylwetki\u001B[0m\u001B[1;33m.\u001B[0m\u001B[0mappend\u001B[0m\u001B[1;33m(\u001B[0m\u001B[0mkm\u001B[0m\u001B[1;33m.\u001B[0m\u001B[0msilhouette_score\u001B[0m\u001B[1;33m(\u001B[0m\u001B[1;33m)\u001B[0m\u001B[1;33m,\u001B[0m \u001B[0mkm\u001B[0m\u001B[1;33m.\u001B[0m\u001B[0mpredict\u001B[0m\u001B[1;33m(\u001B[0m\u001B[0mdf\u001B[0m\u001B[1;33m[\u001B[0m\u001B[1;33m[\u001B[0m\u001B[1;34m'x1'\u001B[0m\u001B[1;33m,\u001B[0m \u001B[1;34m'x2'\u001B[0m\u001B[1;33m]\u001B[0m\u001B[1;33m]\u001B[0m\u001B[1;33m)\u001B[0m\u001B[1;33m)\u001B[0m \u001B[1;31m# km.labels_\u001B[0m\u001B[1;33m\u001B[0m\u001B[1;33m\u001B[0m\u001B[0m\n\u001B[0m",
      "\u001B[1;31mAttributeError\u001B[0m: 'KMeans' object has no attribute 'silhouette_score'"
     ]
    }
   ]
  },
  {
   "cell_type": "code",
   "source": [
    "sylwetki_df = pd.DataFrame({'K': ks,\n",
    "                            'Sylwetka': sylwetki})"
   ],
   "metadata": {
    "id": "jj3XIdwXWxQ2"
   },
   "execution_count": 23,
   "outputs": [
    {
     "data": {
      "text/plain": "[]"
     },
     "execution_count": 23,
     "metadata": {},
     "output_type": "execute_result"
    }
   ]
  },
  {
   "cell_type": "code",
   "execution_count": null,
   "outputs": [],
   "source": [
    "(ggplot(sylwetki_df, aes(x = 'K', y='Inercja'))+\n",
    " geom_point() +\n",
    " scale_x_continous(breaks = ks)\n",
    " geom_line() +\n",
    " theme_minimal() +\n",
    " labs(title= 'Inercja dla kolejnych K'))"
   ],
   "metadata": {
    "collapsed": false
   }
  }
 ]
}
