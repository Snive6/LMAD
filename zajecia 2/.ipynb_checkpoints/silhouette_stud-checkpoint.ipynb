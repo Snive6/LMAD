{
 "cells": [
  {
   "cell_type": "markdown",
   "metadata": {
    "id": "zNK7fxS1DX0J"
   },
   "source": [
    "## Indeks silhouette\n",
    "\n",
    "jest indeksem obliczanym dla każdego obiektu, wyrażającym na ile blisko temu obiektowi do wszystkich pozostałych z jego grupy w stosunku do wszystkich pozostałych z innej (najbliższej grupy).\n",
    "\n",
    "\n",
    "$$s(i) = \\frac{b(i) - a(i)}{\\max(a(i), b(i))}$$\n",
    "​\n",
    "\n",
    "gdzie:\n",
    "\n",
    "- $a(i)$ to średnia odległość obserwacji $x_i$ od pozostałych z jej grupy (*cohesion* - spójność),\n",
    "- $b(i)$ to najmniejsza ze średnich odległości do pozostałych grup (*separation* - rozdzelenie)."
   ]
  },
  {
   "cell_type": "code",
   "execution_count": 14,
   "metadata": {
    "id": "4_mp3GhO77Zd"
   },
   "outputs": [
    {
     "ename": "ModuleNotFoundError",
     "evalue": "No module named 'plotnine'",
     "output_type": "error",
     "traceback": [
      "\u001b[1;31m---------------------------------------------------------------------------\u001b[0m",
      "\u001b[1;31mModuleNotFoundError\u001b[0m                       Traceback (most recent call last)",
      "\u001b[1;32m<ipython-input-14-5c5b7273d1bf>\u001b[0m in \u001b[0;36m<module>\u001b[1;34m\u001b[0m\n\u001b[0;32m      1\u001b[0m \u001b[1;32mimport\u001b[0m \u001b[0mpandas\u001b[0m \u001b[1;32mas\u001b[0m \u001b[0mpd\u001b[0m\u001b[1;33m\u001b[0m\u001b[1;33m\u001b[0m\u001b[0m\n\u001b[0;32m      2\u001b[0m \u001b[1;32mimport\u001b[0m \u001b[0mnumpy\u001b[0m \u001b[1;32mas\u001b[0m \u001b[0mnp\u001b[0m\u001b[1;33m\u001b[0m\u001b[1;33m\u001b[0m\u001b[0m\n\u001b[1;32m----> 3\u001b[1;33m \u001b[1;32mfrom\u001b[0m \u001b[0mplotnine\u001b[0m \u001b[1;32mimport\u001b[0m \u001b[1;33m*\u001b[0m\u001b[1;33m\u001b[0m\u001b[1;33m\u001b[0m\u001b[0m\n\u001b[0m",
      "\u001b[1;31mModuleNotFoundError\u001b[0m: No module named 'plotnine'"
     ]
    }
   ],
   "source": [
    "import pandas as pd\n",
    "import numpy as np\n",
    "# from plotnine import *"
   ]
  },
  {
   "cell_type": "code",
   "execution_count": 3,
   "metadata": {
    "id": "teUg15BT8OBW"
   },
   "outputs": [],
   "source": [
    "df = pd.DataFrame({\"ai\": np.arange(0.1, 5, 0.2), \"bi\": np.arange(4.9, 0, -0.2)})"
   ]
  },
  {
   "cell_type": "code",
   "execution_count": 4,
   "metadata": {
    "id": "ZfACg1fW8OIO"
   },
   "outputs": [
    {
     "data": {
      "text/html": [
       "<div>\n",
       "<style scoped>\n",
       "    .dataframe tbody tr th:only-of-type {\n",
       "        vertical-align: middle;\n",
       "    }\n",
       "\n",
       "    .dataframe tbody tr th {\n",
       "        vertical-align: top;\n",
       "    }\n",
       "\n",
       "    .dataframe thead th {\n",
       "        text-align: right;\n",
       "    }\n",
       "</style>\n",
       "<table border=\"1\" class=\"dataframe\">\n",
       "  <thead>\n",
       "    <tr style=\"text-align: right;\">\n",
       "      <th></th>\n",
       "      <th>ai</th>\n",
       "      <th>bi</th>\n",
       "    </tr>\n",
       "  </thead>\n",
       "  <tbody>\n",
       "    <tr>\n",
       "      <th>0</th>\n",
       "      <td>0.1</td>\n",
       "      <td>4.9</td>\n",
       "    </tr>\n",
       "    <tr>\n",
       "      <th>1</th>\n",
       "      <td>0.3</td>\n",
       "      <td>4.7</td>\n",
       "    </tr>\n",
       "    <tr>\n",
       "      <th>2</th>\n",
       "      <td>0.5</td>\n",
       "      <td>4.5</td>\n",
       "    </tr>\n",
       "    <tr>\n",
       "      <th>3</th>\n",
       "      <td>0.7</td>\n",
       "      <td>4.3</td>\n",
       "    </tr>\n",
       "    <tr>\n",
       "      <th>4</th>\n",
       "      <td>0.9</td>\n",
       "      <td>4.1</td>\n",
       "    </tr>\n",
       "    <tr>\n",
       "      <th>5</th>\n",
       "      <td>1.1</td>\n",
       "      <td>3.9</td>\n",
       "    </tr>\n",
       "    <tr>\n",
       "      <th>6</th>\n",
       "      <td>1.3</td>\n",
       "      <td>3.7</td>\n",
       "    </tr>\n",
       "    <tr>\n",
       "      <th>7</th>\n",
       "      <td>1.5</td>\n",
       "      <td>3.5</td>\n",
       "    </tr>\n",
       "    <tr>\n",
       "      <th>8</th>\n",
       "      <td>1.7</td>\n",
       "      <td>3.3</td>\n",
       "    </tr>\n",
       "    <tr>\n",
       "      <th>9</th>\n",
       "      <td>1.9</td>\n",
       "      <td>3.1</td>\n",
       "    </tr>\n",
       "    <tr>\n",
       "      <th>10</th>\n",
       "      <td>2.1</td>\n",
       "      <td>2.9</td>\n",
       "    </tr>\n",
       "    <tr>\n",
       "      <th>11</th>\n",
       "      <td>2.3</td>\n",
       "      <td>2.7</td>\n",
       "    </tr>\n",
       "    <tr>\n",
       "      <th>12</th>\n",
       "      <td>2.5</td>\n",
       "      <td>2.5</td>\n",
       "    </tr>\n",
       "    <tr>\n",
       "      <th>13</th>\n",
       "      <td>2.7</td>\n",
       "      <td>2.3</td>\n",
       "    </tr>\n",
       "    <tr>\n",
       "      <th>14</th>\n",
       "      <td>2.9</td>\n",
       "      <td>2.1</td>\n",
       "    </tr>\n",
       "    <tr>\n",
       "      <th>15</th>\n",
       "      <td>3.1</td>\n",
       "      <td>1.9</td>\n",
       "    </tr>\n",
       "    <tr>\n",
       "      <th>16</th>\n",
       "      <td>3.3</td>\n",
       "      <td>1.7</td>\n",
       "    </tr>\n",
       "    <tr>\n",
       "      <th>17</th>\n",
       "      <td>3.5</td>\n",
       "      <td>1.5</td>\n",
       "    </tr>\n",
       "    <tr>\n",
       "      <th>18</th>\n",
       "      <td>3.7</td>\n",
       "      <td>1.3</td>\n",
       "    </tr>\n",
       "    <tr>\n",
       "      <th>19</th>\n",
       "      <td>3.9</td>\n",
       "      <td>1.1</td>\n",
       "    </tr>\n",
       "    <tr>\n",
       "      <th>20</th>\n",
       "      <td>4.1</td>\n",
       "      <td>0.9</td>\n",
       "    </tr>\n",
       "    <tr>\n",
       "      <th>21</th>\n",
       "      <td>4.3</td>\n",
       "      <td>0.7</td>\n",
       "    </tr>\n",
       "    <tr>\n",
       "      <th>22</th>\n",
       "      <td>4.5</td>\n",
       "      <td>0.5</td>\n",
       "    </tr>\n",
       "    <tr>\n",
       "      <th>23</th>\n",
       "      <td>4.7</td>\n",
       "      <td>0.3</td>\n",
       "    </tr>\n",
       "    <tr>\n",
       "      <th>24</th>\n",
       "      <td>4.9</td>\n",
       "      <td>0.1</td>\n",
       "    </tr>\n",
       "  </tbody>\n",
       "</table>\n",
       "</div>"
      ],
      "text/plain": [
       "     ai   bi\n",
       "0   0.1  4.9\n",
       "1   0.3  4.7\n",
       "2   0.5  4.5\n",
       "3   0.7  4.3\n",
       "4   0.9  4.1\n",
       "5   1.1  3.9\n",
       "6   1.3  3.7\n",
       "7   1.5  3.5\n",
       "8   1.7  3.3\n",
       "9   1.9  3.1\n",
       "10  2.1  2.9\n",
       "11  2.3  2.7\n",
       "12  2.5  2.5\n",
       "13  2.7  2.3\n",
       "14  2.9  2.1\n",
       "15  3.1  1.9\n",
       "16  3.3  1.7\n",
       "17  3.5  1.5\n",
       "18  3.7  1.3\n",
       "19  3.9  1.1\n",
       "20  4.1  0.9\n",
       "21  4.3  0.7\n",
       "22  4.5  0.5\n",
       "23  4.7  0.3\n",
       "24  4.9  0.1"
      ]
     },
     "execution_count": 4,
     "metadata": {},
     "output_type": "execute_result"
    }
   ],
   "source": [
    "df"
   ]
  },
  {
   "cell_type": "code",
   "execution_count": 5,
   "metadata": {
    "id": "mbVw-HW88OOV"
   },
   "outputs": [],
   "source": [
    "df['roznica'] = df.bi - df.ai\n",
    "df['maks'] = df.max(axis=1)\n",
    "df['silh'] = df.roznica / df.maks"
   ]
  },
  {
   "cell_type": "code",
   "execution_count": 8,
   "metadata": {
    "id": "RnF-ZjwV8OUb"
   },
   "outputs": [],
   "source": [
    "df['silh_abs'] = df.silh.abs()"
   ]
  },
  {
   "cell_type": "code",
   "execution_count": 9,
   "metadata": {
    "id": "U72bxGDRFNkA"
   },
   "outputs": [
    {
     "data": {
      "text/html": [
       "<div>\n",
       "<style scoped>\n",
       "    .dataframe tbody tr th:only-of-type {\n",
       "        vertical-align: middle;\n",
       "    }\n",
       "\n",
       "    .dataframe tbody tr th {\n",
       "        vertical-align: top;\n",
       "    }\n",
       "\n",
       "    .dataframe thead th {\n",
       "        text-align: right;\n",
       "    }\n",
       "</style>\n",
       "<table border=\"1\" class=\"dataframe\">\n",
       "  <thead>\n",
       "    <tr style=\"text-align: right;\">\n",
       "      <th></th>\n",
       "      <th>ai</th>\n",
       "      <th>bi</th>\n",
       "      <th>roznica</th>\n",
       "      <th>maks</th>\n",
       "      <th>silh</th>\n",
       "      <th>silh_abs</th>\n",
       "    </tr>\n",
       "  </thead>\n",
       "  <tbody>\n",
       "    <tr>\n",
       "      <th>0</th>\n",
       "      <td>0.1</td>\n",
       "      <td>4.9</td>\n",
       "      <td>4.800000e+00</td>\n",
       "      <td>4.9</td>\n",
       "      <td>9.795918e-01</td>\n",
       "      <td>9.795918e-01</td>\n",
       "    </tr>\n",
       "    <tr>\n",
       "      <th>1</th>\n",
       "      <td>0.3</td>\n",
       "      <td>4.7</td>\n",
       "      <td>4.400000e+00</td>\n",
       "      <td>4.7</td>\n",
       "      <td>9.361702e-01</td>\n",
       "      <td>9.361702e-01</td>\n",
       "    </tr>\n",
       "    <tr>\n",
       "      <th>2</th>\n",
       "      <td>0.5</td>\n",
       "      <td>4.5</td>\n",
       "      <td>4.000000e+00</td>\n",
       "      <td>4.5</td>\n",
       "      <td>8.888889e-01</td>\n",
       "      <td>8.888889e-01</td>\n",
       "    </tr>\n",
       "    <tr>\n",
       "      <th>3</th>\n",
       "      <td>0.7</td>\n",
       "      <td>4.3</td>\n",
       "      <td>3.600000e+00</td>\n",
       "      <td>4.3</td>\n",
       "      <td>8.372093e-01</td>\n",
       "      <td>8.372093e-01</td>\n",
       "    </tr>\n",
       "    <tr>\n",
       "      <th>4</th>\n",
       "      <td>0.9</td>\n",
       "      <td>4.1</td>\n",
       "      <td>3.200000e+00</td>\n",
       "      <td>4.1</td>\n",
       "      <td>7.804878e-01</td>\n",
       "      <td>7.804878e-01</td>\n",
       "    </tr>\n",
       "    <tr>\n",
       "      <th>5</th>\n",
       "      <td>1.1</td>\n",
       "      <td>3.9</td>\n",
       "      <td>2.800000e+00</td>\n",
       "      <td>3.9</td>\n",
       "      <td>7.179487e-01</td>\n",
       "      <td>7.179487e-01</td>\n",
       "    </tr>\n",
       "    <tr>\n",
       "      <th>6</th>\n",
       "      <td>1.3</td>\n",
       "      <td>3.7</td>\n",
       "      <td>2.400000e+00</td>\n",
       "      <td>3.7</td>\n",
       "      <td>6.486486e-01</td>\n",
       "      <td>6.486486e-01</td>\n",
       "    </tr>\n",
       "    <tr>\n",
       "      <th>7</th>\n",
       "      <td>1.5</td>\n",
       "      <td>3.5</td>\n",
       "      <td>2.000000e+00</td>\n",
       "      <td>3.5</td>\n",
       "      <td>5.714286e-01</td>\n",
       "      <td>5.714286e-01</td>\n",
       "    </tr>\n",
       "    <tr>\n",
       "      <th>8</th>\n",
       "      <td>1.7</td>\n",
       "      <td>3.3</td>\n",
       "      <td>1.600000e+00</td>\n",
       "      <td>3.3</td>\n",
       "      <td>4.848485e-01</td>\n",
       "      <td>4.848485e-01</td>\n",
       "    </tr>\n",
       "    <tr>\n",
       "      <th>9</th>\n",
       "      <td>1.9</td>\n",
       "      <td>3.1</td>\n",
       "      <td>1.200000e+00</td>\n",
       "      <td>3.1</td>\n",
       "      <td>3.870968e-01</td>\n",
       "      <td>3.870968e-01</td>\n",
       "    </tr>\n",
       "    <tr>\n",
       "      <th>10</th>\n",
       "      <td>2.1</td>\n",
       "      <td>2.9</td>\n",
       "      <td>8.000000e-01</td>\n",
       "      <td>2.9</td>\n",
       "      <td>2.758621e-01</td>\n",
       "      <td>2.758621e-01</td>\n",
       "    </tr>\n",
       "    <tr>\n",
       "      <th>11</th>\n",
       "      <td>2.3</td>\n",
       "      <td>2.7</td>\n",
       "      <td>4.000000e-01</td>\n",
       "      <td>2.7</td>\n",
       "      <td>1.481481e-01</td>\n",
       "      <td>1.481481e-01</td>\n",
       "    </tr>\n",
       "    <tr>\n",
       "      <th>12</th>\n",
       "      <td>2.5</td>\n",
       "      <td>2.5</td>\n",
       "      <td>-2.220446e-15</td>\n",
       "      <td>2.5</td>\n",
       "      <td>-8.881784e-16</td>\n",
       "      <td>8.881784e-16</td>\n",
       "    </tr>\n",
       "    <tr>\n",
       "      <th>13</th>\n",
       "      <td>2.7</td>\n",
       "      <td>2.3</td>\n",
       "      <td>-4.000000e-01</td>\n",
       "      <td>2.7</td>\n",
       "      <td>-1.481481e-01</td>\n",
       "      <td>1.481481e-01</td>\n",
       "    </tr>\n",
       "    <tr>\n",
       "      <th>14</th>\n",
       "      <td>2.9</td>\n",
       "      <td>2.1</td>\n",
       "      <td>-8.000000e-01</td>\n",
       "      <td>2.9</td>\n",
       "      <td>-2.758621e-01</td>\n",
       "      <td>2.758621e-01</td>\n",
       "    </tr>\n",
       "    <tr>\n",
       "      <th>15</th>\n",
       "      <td>3.1</td>\n",
       "      <td>1.9</td>\n",
       "      <td>-1.200000e+00</td>\n",
       "      <td>3.1</td>\n",
       "      <td>-3.870968e-01</td>\n",
       "      <td>3.870968e-01</td>\n",
       "    </tr>\n",
       "    <tr>\n",
       "      <th>16</th>\n",
       "      <td>3.3</td>\n",
       "      <td>1.7</td>\n",
       "      <td>-1.600000e+00</td>\n",
       "      <td>3.3</td>\n",
       "      <td>-4.848485e-01</td>\n",
       "      <td>4.848485e-01</td>\n",
       "    </tr>\n",
       "    <tr>\n",
       "      <th>17</th>\n",
       "      <td>3.5</td>\n",
       "      <td>1.5</td>\n",
       "      <td>-2.000000e+00</td>\n",
       "      <td>3.5</td>\n",
       "      <td>-5.714286e-01</td>\n",
       "      <td>5.714286e-01</td>\n",
       "    </tr>\n",
       "    <tr>\n",
       "      <th>18</th>\n",
       "      <td>3.7</td>\n",
       "      <td>1.3</td>\n",
       "      <td>-2.400000e+00</td>\n",
       "      <td>3.7</td>\n",
       "      <td>-6.486486e-01</td>\n",
       "      <td>6.486486e-01</td>\n",
       "    </tr>\n",
       "    <tr>\n",
       "      <th>19</th>\n",
       "      <td>3.9</td>\n",
       "      <td>1.1</td>\n",
       "      <td>-2.800000e+00</td>\n",
       "      <td>3.9</td>\n",
       "      <td>-7.179487e-01</td>\n",
       "      <td>7.179487e-01</td>\n",
       "    </tr>\n",
       "    <tr>\n",
       "      <th>20</th>\n",
       "      <td>4.1</td>\n",
       "      <td>0.9</td>\n",
       "      <td>-3.200000e+00</td>\n",
       "      <td>4.1</td>\n",
       "      <td>-7.804878e-01</td>\n",
       "      <td>7.804878e-01</td>\n",
       "    </tr>\n",
       "    <tr>\n",
       "      <th>21</th>\n",
       "      <td>4.3</td>\n",
       "      <td>0.7</td>\n",
       "      <td>-3.600000e+00</td>\n",
       "      <td>4.3</td>\n",
       "      <td>-8.372093e-01</td>\n",
       "      <td>8.372093e-01</td>\n",
       "    </tr>\n",
       "    <tr>\n",
       "      <th>22</th>\n",
       "      <td>4.5</td>\n",
       "      <td>0.5</td>\n",
       "      <td>-4.000000e+00</td>\n",
       "      <td>4.5</td>\n",
       "      <td>-8.888889e-01</td>\n",
       "      <td>8.888889e-01</td>\n",
       "    </tr>\n",
       "    <tr>\n",
       "      <th>23</th>\n",
       "      <td>4.7</td>\n",
       "      <td>0.3</td>\n",
       "      <td>-4.400000e+00</td>\n",
       "      <td>4.7</td>\n",
       "      <td>-9.361702e-01</td>\n",
       "      <td>9.361702e-01</td>\n",
       "    </tr>\n",
       "    <tr>\n",
       "      <th>24</th>\n",
       "      <td>4.9</td>\n",
       "      <td>0.1</td>\n",
       "      <td>-4.800000e+00</td>\n",
       "      <td>4.9</td>\n",
       "      <td>-9.795918e-01</td>\n",
       "      <td>9.795918e-01</td>\n",
       "    </tr>\n",
       "  </tbody>\n",
       "</table>\n",
       "</div>"
      ],
      "text/plain": [
       "     ai   bi       roznica  maks          silh      silh_abs\n",
       "0   0.1  4.9  4.800000e+00   4.9  9.795918e-01  9.795918e-01\n",
       "1   0.3  4.7  4.400000e+00   4.7  9.361702e-01  9.361702e-01\n",
       "2   0.5  4.5  4.000000e+00   4.5  8.888889e-01  8.888889e-01\n",
       "3   0.7  4.3  3.600000e+00   4.3  8.372093e-01  8.372093e-01\n",
       "4   0.9  4.1  3.200000e+00   4.1  7.804878e-01  7.804878e-01\n",
       "5   1.1  3.9  2.800000e+00   3.9  7.179487e-01  7.179487e-01\n",
       "6   1.3  3.7  2.400000e+00   3.7  6.486486e-01  6.486486e-01\n",
       "7   1.5  3.5  2.000000e+00   3.5  5.714286e-01  5.714286e-01\n",
       "8   1.7  3.3  1.600000e+00   3.3  4.848485e-01  4.848485e-01\n",
       "9   1.9  3.1  1.200000e+00   3.1  3.870968e-01  3.870968e-01\n",
       "10  2.1  2.9  8.000000e-01   2.9  2.758621e-01  2.758621e-01\n",
       "11  2.3  2.7  4.000000e-01   2.7  1.481481e-01  1.481481e-01\n",
       "12  2.5  2.5 -2.220446e-15   2.5 -8.881784e-16  8.881784e-16\n",
       "13  2.7  2.3 -4.000000e-01   2.7 -1.481481e-01  1.481481e-01\n",
       "14  2.9  2.1 -8.000000e-01   2.9 -2.758621e-01  2.758621e-01\n",
       "15  3.1  1.9 -1.200000e+00   3.1 -3.870968e-01  3.870968e-01\n",
       "16  3.3  1.7 -1.600000e+00   3.3 -4.848485e-01  4.848485e-01\n",
       "17  3.5  1.5 -2.000000e+00   3.5 -5.714286e-01  5.714286e-01\n",
       "18  3.7  1.3 -2.400000e+00   3.7 -6.486486e-01  6.486486e-01\n",
       "19  3.9  1.1 -2.800000e+00   3.9 -7.179487e-01  7.179487e-01\n",
       "20  4.1  0.9 -3.200000e+00   4.1 -7.804878e-01  7.804878e-01\n",
       "21  4.3  0.7 -3.600000e+00   4.3 -8.372093e-01  8.372093e-01\n",
       "22  4.5  0.5 -4.000000e+00   4.5 -8.888889e-01  8.888889e-01\n",
       "23  4.7  0.3 -4.400000e+00   4.7 -9.361702e-01  9.361702e-01\n",
       "24  4.9  0.1 -4.800000e+00   4.9 -9.795918e-01  9.795918e-01"
      ]
     },
     "execution_count": 9,
     "metadata": {},
     "output_type": "execute_result"
    }
   ],
   "source": [
    "df"
   ]
  },
  {
   "cell_type": "markdown",
   "metadata": {
    "id": "BMKbUjYwF4FX"
   },
   "source": [
    "## Interpretacja\n",
    "\n",
    "Im bliższa $s(i)$  wartości 1, tym bardziej dany obiekt pasuje do swojej grupy, im bliższa wartości -1, tym bliżej temu obiektowi do grupy sąsiedniej. $s(i)$ bliskie 0 oznacza, że punkt znajduje się pomiędzy dwoma skupieniami."
   ]
  },
  {
   "cell_type": "code",
   "execution_count": 10,
   "metadata": {
    "id": "QIsYHoaX8Oab"
   },
   "outputs": [
    {
     "ename": "NameError",
     "evalue": "name 'ggplot' is not defined",
     "output_type": "error",
     "traceback": [
      "\u001b[1;31m---------------------------------------------------------------------------\u001b[0m",
      "\u001b[1;31mNameError\u001b[0m                                 Traceback (most recent call last)",
      "\u001b[1;32m<ipython-input-10-011ecabb8e88>\u001b[0m in \u001b[0;36m<module>\u001b[1;34m\u001b[0m\n\u001b[1;32m----> 1\u001b[1;33m (ggplot(df, aes(x ='ai', y = 'bi', color = 'silh')) +\n\u001b[0m\u001b[0;32m      2\u001b[0m  \u001b[0mgeom_point\u001b[0m\u001b[1;33m(\u001b[0m\u001b[1;33m)\u001b[0m \u001b[1;33m+\u001b[0m\u001b[1;33m\u001b[0m\u001b[1;33m\u001b[0m\u001b[0m\n\u001b[0;32m      3\u001b[0m  theme_minimal())\n",
      "\u001b[1;31mNameError\u001b[0m: name 'ggplot' is not defined"
     ]
    }
   ],
   "source": [
    "(ggplot(df, aes(x ='ai', y = 'bi', color = 'silh', size = 'silh_abs')) +\n",
    " geom_point() +\n",
    " scale_color_gradient(low='red', high = 'green')\n",
    " theme_minimal())"
   ]
  },
  {
   "cell_type": "markdown",
   "metadata": {
    "id": "OJW9wNk7WhPP"
   },
   "source": [
    "## Przykład"
   ]
  },
  {
   "cell_type": "code",
   "execution_count": 1,
   "metadata": {
    "id": "fSHN75UtWjlZ"
   },
   "outputs": [],
   "source": [
    "from sklearn.cluster import KMeans\n",
    "from sklearn.metrics import silhouette_score\n",
    "\n",
    "from sklearn.datasets import make_blobs"
   ]
  },
  {
   "cell_type": "code",
   "execution_count": 4,
   "metadata": {},
   "outputs": [],
   "source": [
    "import pandas as pd"
   ]
  },
  {
   "cell_type": "code",
   "execution_count": 2,
   "metadata": {
    "id": "SpRCDEoyWsAA"
   },
   "outputs": [],
   "source": [
    "n = 100\n",
    "\n",
    "centra = [(-6,-6), (0,0), (6,6), (9,9)]\n",
    "\n",
    "X, y = make_blobs(n_samples=n, n_features=2, centers=centra, cluster_std=1, random_state=0)"
   ]
  },
  {
   "cell_type": "code",
   "execution_count": 5,
   "metadata": {
    "id": "oq0X_g9RWsws"
   },
   "outputs": [],
   "source": [
    "df = pd.DataFrame(X, columns = ['x1', 'x2'])\n",
    "df['Grupy'] = y"
   ]
  },
  {
   "cell_type": "code",
   "execution_count": 6,
   "metadata": {
    "id": "j0miMYflWtP1",
    "scrolled": true
   },
   "outputs": [
    {
     "ename": "AttributeError",
     "evalue": "'KMeans' object has no attribute 'silhouette_score'",
     "output_type": "error",
     "traceback": [
      "\u001b[1;31m---------------------------------------------------------------------------\u001b[0m",
      "\u001b[1;31mAttributeError\u001b[0m                            Traceback (most recent call last)",
      "\u001b[1;32m<ipython-input-6-a311bd9b2457>\u001b[0m in \u001b[0;36m<module>\u001b[1;34m\u001b[0m\n\u001b[0;32m      4\u001b[0m \u001b[1;32mfor\u001b[0m \u001b[0mk\u001b[0m \u001b[1;32min\u001b[0m \u001b[0mks\u001b[0m\u001b[1;33m:\u001b[0m\u001b[1;33m\u001b[0m\u001b[1;33m\u001b[0m\u001b[0m\n\u001b[0;32m      5\u001b[0m     \u001b[0mkm\u001b[0m \u001b[1;33m=\u001b[0m \u001b[0mKMeans\u001b[0m\u001b[1;33m(\u001b[0m\u001b[0mn_clusters\u001b[0m \u001b[1;33m=\u001b[0m \u001b[0mk\u001b[0m\u001b[1;33m)\u001b[0m\u001b[1;33m.\u001b[0m\u001b[0mfit\u001b[0m\u001b[1;33m(\u001b[0m\u001b[0mdf\u001b[0m\u001b[1;33m[\u001b[0m\u001b[1;33m[\u001b[0m\u001b[1;34m'x1'\u001b[0m\u001b[1;33m,\u001b[0m \u001b[1;34m'x2'\u001b[0m\u001b[1;33m]\u001b[0m\u001b[1;33m]\u001b[0m\u001b[1;33m)\u001b[0m\u001b[1;33m\u001b[0m\u001b[1;33m\u001b[0m\u001b[0m\n\u001b[1;32m----> 6\u001b[1;33m     \u001b[0msylwetki\u001b[0m\u001b[1;33m.\u001b[0m\u001b[0mappend\u001b[0m\u001b[1;33m(\u001b[0m\u001b[0mkm\u001b[0m\u001b[1;33m.\u001b[0m\u001b[0msilhouette_score\u001b[0m\u001b[1;33m(\u001b[0m\u001b[1;33m)\u001b[0m\u001b[1;33m,\u001b[0m \u001b[0mkm\u001b[0m\u001b[1;33m.\u001b[0m\u001b[0mpredict\u001b[0m\u001b[1;33m(\u001b[0m\u001b[0mdf\u001b[0m\u001b[1;33m[\u001b[0m\u001b[1;33m[\u001b[0m\u001b[1;34m'x1'\u001b[0m\u001b[1;33m,\u001b[0m \u001b[1;34m'x2'\u001b[0m\u001b[1;33m]\u001b[0m\u001b[1;33m]\u001b[0m\u001b[1;33m)\u001b[0m\u001b[1;33m)\u001b[0m \u001b[1;31m# km.labels_\u001b[0m\u001b[1;33m\u001b[0m\u001b[1;33m\u001b[0m\u001b[0m\n\u001b[0m",
      "\u001b[1;31mAttributeError\u001b[0m: 'KMeans' object has no attribute 'silhouette_score'"
     ]
    }
   ],
   "source": [
    "ks = range(2, 20)\n",
    "sylwetki = []\n",
    "\n",
    "for k in ks:\n",
    "    km = KMeans(n_clusters = k).fit(df[['x1', 'x2']])\n",
    "    sylwetki.append(km.silhouette_score(), km.predict(df[['x1', 'x2']])) # km.labels_"
   ]
  },
  {
   "cell_type": "code",
   "execution_count": 23,
   "metadata": {
    "id": "jj3XIdwXWxQ2"
   },
   "outputs": [
    {
     "data": {
      "text/plain": [
       "[]"
      ]
     },
     "execution_count": 23,
     "metadata": {},
     "output_type": "execute_result"
    }
   ],
   "source": [
    "sylwetki_df = pd.DataFrame({'K': ks,\n",
    "                            'Sylwetka': sylwetki})"
   ]
  },
  {
   "cell_type": "code",
   "execution_count": null,
   "metadata": {},
   "outputs": [],
   "source": [
    "(ggplot(sylwetki_df, aes(x = 'K', y='Inercja'))+\n",
    " geom_point() +\n",
    " scale_x_continous(breaks = ks)\n",
    " geom_line() +\n",
    " theme_minimal() +\n",
    " labs(title= 'Inercja dla kolejnych K'))"
   ]
  }
 ],
 "metadata": {
  "colab": {
   "authorship_tag": "ABX9TyO5xv/YmYIWlvMgmY3qK2mO",
   "collapsed_sections": [],
   "provenance": [
    {
     "file_id": "1QM_g6Kmom9YBegI2LiTyWeEuaa04nmew",
     "timestamp": 1665443384068
    }
   ]
  },
  "kernelspec": {
   "display_name": "Python 3",
   "language": "python",
   "name": "python3"
  },
  "language_info": {
   "codemirror_mode": {
    "name": "ipython",
    "version": 3
   },
   "file_extension": ".py",
   "mimetype": "text/x-python",
   "name": "python",
   "nbconvert_exporter": "python",
   "pygments_lexer": "ipython3",
   "version": "3.8.8"
  }
 },
 "nbformat": 4,
 "nbformat_minor": 1
}
