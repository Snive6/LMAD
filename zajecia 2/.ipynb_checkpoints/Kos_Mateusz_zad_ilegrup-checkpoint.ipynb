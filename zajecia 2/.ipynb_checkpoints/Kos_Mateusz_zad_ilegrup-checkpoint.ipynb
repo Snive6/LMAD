{
 "cells": [
  {
   "cell_type": "code",
   "execution_count": 2,
   "id": "a7950d4a",
   "metadata": {},
   "outputs": [],
   "source": [
    "import pandas as pd\n",
    "import numpy as np\n",
    "from plotnine import *"
   ]
  },
  {
   "cell_type": "code",
   "execution_count": 3,
   "id": "1c5e198e",
   "metadata": {},
   "outputs": [],
   "source": [
    "import matplotlib.pyplot as plt\n",
    "from sklearn.cluster import KMeans\n",
    "from sklearn.datasets import make_blobs\n",
    "from sklearn.datasets import make_classification\n",
    "from sklearn.metrics import silhouette_score"
   ]
  },
  {
   "cell_type": "code",
   "execution_count": 61,
   "id": "83759750",
   "metadata": {},
   "outputs": [],
   "source": [
    "from sklearn.metrics import adjusted_mutual_info_score\n",
    "from sklearn.metrics import calinski_harabasz_score"
   ]
  },
  {
   "cell_type": "code",
   "execution_count": 4,
   "id": "ac10ee44",
   "metadata": {},
   "outputs": [],
   "source": [
    "kredki = plt.imread('pencils.jpg')"
   ]
  },
  {
   "cell_type": "code",
   "execution_count": 8,
   "id": "65941079",
   "metadata": {},
   "outputs": [
    {
     "data": {
      "text/plain": [
       "(427, 640, 3)"
      ]
     },
     "execution_count": 8,
     "metadata": {},
     "output_type": "execute_result"
    }
   ],
   "source": [
    "kredki.shape"
   ]
  },
  {
   "cell_type": "code",
   "execution_count": 10,
   "id": "d4f3b32a",
   "metadata": {},
   "outputs": [],
   "source": [
    "kredki_flat = kredki.reshape(-1, 3)"
   ]
  },
  {
   "cell_type": "code",
   "execution_count": 11,
   "id": "1925ed8b",
   "metadata": {},
   "outputs": [
    {
     "data": {
      "text/plain": [
       "(273280, 3)"
      ]
     },
     "execution_count": 11,
     "metadata": {},
     "output_type": "execute_result"
    }
   ],
   "source": [
    "kredki_flat.shape"
   ]
  },
  {
   "cell_type": "code",
   "execution_count": 85,
   "id": "eebadd5c",
   "metadata": {},
   "outputs": [
    {
     "name": "stdout",
     "output_type": "stream",
     "text": [
      "Wall time: 2min 15s\n"
     ]
    }
   ],
   "source": [
    "%%time\n",
    "ks = range(2, 20)\n",
    "sylwetki = []\n",
    "inercje = []\n",
    "calinski = []\n",
    "aic = []\n",
    "\n",
    "for k in ks:\n",
    "    km = KMeans(n_clusters=k, random_state=0).fit(kredki_flat)\n",
    "#     sylwetki.append(silhouette_score(kredki_flat, km.predict(kredki_flat)))\n",
    "#     inercje.append(km.inertia_)\n",
    "#     calinski.append(calinski_harabasz_score(kredki_flat, km.predict(kredki_flat)))\n",
    "    aic.append(adjusted_mutual_info_score(km.labels_, km.predict(kredki_flat)))"
   ]
  },
  {
   "cell_type": "code",
   "execution_count": 69,
   "id": "27a681d6",
   "metadata": {},
   "outputs": [
    {
     "data": {
      "text/plain": [
       "array([9, 9, 9, ..., 9, 9, 9])"
      ]
     },
     "execution_count": 69,
     "metadata": {},
     "output_type": "execute_result"
    }
   ],
   "source": [
    "km.labels_"
   ]
  },
  {
   "cell_type": "code",
   "execution_count": 60,
   "id": "80d42a83",
   "metadata": {},
   "outputs": [
    {
     "data": {
      "text/plain": [
       "array([9, 9, 9, ..., 9, 9, 9])"
      ]
     },
     "execution_count": 60,
     "metadata": {},
     "output_type": "execute_result"
    }
   ],
   "source": [
    "km.predict(kredki_flat)"
   ]
  },
  {
   "cell_type": "code",
   "execution_count": 70,
   "id": "3fb708cc",
   "metadata": {},
   "outputs": [
    {
     "name": "stdout",
     "output_type": "stream",
     "text": [
      "Wall time: 1.12 s\n"
     ]
    },
    {
     "data": {
      "text/plain": [
       "1.0"
      ]
     },
     "execution_count": 70,
     "metadata": {},
     "output_type": "execute_result"
    }
   ],
   "source": [
    "%%time\n",
    "# silhouette_score(kredki_flat, km.predict(kredki_flat))\n",
    "adjusted_mutual_info_score(km.labels_, km.predict(kredki_flat))\n",
    "# calinski_harabasz_score(kredki_flat, km.predict(kredki_flat))"
   ]
  },
  {
   "cell_type": "code",
   "execution_count": 84,
   "id": "94e6fab4",
   "metadata": {},
   "outputs": [
    {
     "data": {
      "text/plain": [
       "9"
      ]
     },
     "execution_count": 84,
     "metadata": {},
     "output_type": "execute_result"
    }
   ],
   "source": [
    "km.labels_[552]"
   ]
  },
  {
   "cell_type": "code",
   "execution_count": 83,
   "id": "3aaa8812",
   "metadata": {},
   "outputs": [
    {
     "data": {
      "text/plain": [
       "9"
      ]
     },
     "execution_count": 83,
     "metadata": {},
     "output_type": "execute_result"
    }
   ],
   "source": [
    "km.predict(kredki_flat)[552]"
   ]
  },
  {
   "cell_type": "code",
   "execution_count": 74,
   "id": "a4e2b7a8",
   "metadata": {},
   "outputs": [
    {
     "data": {
      "text/plain": [
       "array([9, 9, 9, ..., 9, 9, 9])"
      ]
     },
     "execution_count": 74,
     "metadata": {},
     "output_type": "execute_result"
    }
   ],
   "source": [
    "km.predict(kredki_flat)"
   ]
  },
  {
   "cell_type": "code",
   "execution_count": 39,
   "id": "5da39c4f",
   "metadata": {},
   "outputs": [],
   "source": [
    "inercje_df = pd.DataFrame({'K': ks,\n",
    "                           'Inercja': inercje})"
   ]
  },
  {
   "cell_type": "code",
   "execution_count": 67,
   "id": "8c04126a",
   "metadata": {},
   "outputs": [],
   "source": [
    "calinski_df = pd.DataFrame({'K': ks,\n",
    "                           'Calinski': calinski})"
   ]
  },
  {
   "cell_type": "code",
   "execution_count": 86,
   "id": "21a2be5b",
   "metadata": {},
   "outputs": [],
   "source": [
    "AIC_df = pd.DataFrame({'K': ks,\n",
    "                           'AIC': aic})"
   ]
  },
  {
   "cell_type": "code",
   "execution_count": 43,
   "id": "c1da2785",
   "metadata": {},
   "outputs": [
    {
     "data": {
      "text/plain": [
       "array([ 0,  1,  2,  3,  4,  5,  6,  7,  8,  9, 10, 11, 12, 13, 14, 15, 16,\n",
       "       17, 18])"
      ]
     },
     "execution_count": 43,
     "metadata": {},
     "output_type": "execute_result"
    }
   ],
   "source": [
    "np.unique(km.labels_)"
   ]
  },
  {
   "cell_type": "code",
   "execution_count": 41,
   "id": "22e8cf24",
   "metadata": {},
   "outputs": [
    {
     "data": {
      "image/png": "[encoded data removed]",
      "text/plain": [
       "<Figure size 640x480 with 1 Axes>"
      ]
     },
     "metadata": {
      "needs_background": "light"
     },
     "output_type": "display_data"
    },
    {
     "data": {
      "text/plain": [
       "<ggplot: (156808812273)>"
      ]
     },
     "execution_count": 41,
     "metadata": {},
     "output_type": "execute_result"
    }
   ],
   "source": [
    "(ggplot(inercje_df, aes(x = 'K', y='Inercja'))+\n",
    " geom_point() +\n",
    " scale_x_continuous(breaks = ks) +\n",
    " geom_line() +\n",
    " theme_minimal() +\n",
    " labs(title= 'Inercja dla kolejnych K'))"
   ]
  },
  {
   "cell_type": "code",
   "execution_count": 68,
   "id": "3188bd6b",
   "metadata": {},
   "outputs": [
    {
     "data": {
      "image/png": "[encoded data removed]",
      "text/plain": [
       "<Figure size 640x480 with 1 Axes>"
      ]
     },
     "metadata": {
      "needs_background": "light"
     },
     "output_type": "display_data"
    },
    {
     "data": {
      "text/plain": [
       "<ggplot: (156809222807)>"
      ]
     },
     "execution_count": 68,
     "metadata": {},
     "output_type": "execute_result"
    }
   ],
   "source": [
    "(ggplot(calinski_df, aes(x = 'K', y='calinski'))+\n",
    " geom_point() +\n",
    " scale_x_continuous(breaks = ks) +\n",
    " geom_line() +\n",
    " theme_minimal() +\n",
    " labs(title= 'do zmiany'))"
   ]
  },
  {
   "cell_type": "code",
   "execution_count": 87,
   "id": "6da6be9c",
   "metadata": {},
   "outputs": [
    {
     "data": {
      "image/png": "[encoded data removed]",
      "text/plain": [
       "<Figure size 640x480 with 1 Axes>"
      ]
     },
     "metadata": {
      "needs_background": "light"
     },
     "output_type": "display_data"
    },
    {
     "data": {
      "text/plain": [
       "<ggplot: (156809095795)>"
      ]
     },
     "execution_count": 87,
     "metadata": {},
     "output_type": "execute_result"
    }
   ],
   "source": [
    "(ggplot(AIC_df, aes(x = 'K', y='AIC'))+\n",
    " geom_point() +\n",
    " scale_x_continuous(breaks = ks) +\n",
    " geom_line() +\n",
    " theme_minimal() +\n",
    " labs(title= 'AIC dla kolejnych K'))"
   ]
  },
  {
   "cell_type": "code",
   "execution_count": null,
   "id": "44784f0d",
   "metadata": {},
   "outputs": [],
   "source": []
  },
  {
   "cell_type": "code",
   "execution_count": null,
   "id": "28701486",
   "metadata": {},
   "outputs": [],
   "source": [
    "df = pd.DataFrame()"
   ]
  },
  {
   "cell_type": "code",
   "execution_count": null,
   "id": "efcae53d",
   "metadata": {},
   "outputs": [],
   "source": [
    "ks = range(2, 20)\n",
    "inercje = []\n",
    "\n",
    "for k in ks:\n",
    "    km = KMeans(n_clusters=k).fit(df[['x1', 'x2']])\n",
    "    inercje.append(km.inertia_)"
   ]
  }
 ],
 "metadata": {
  "kernelspec": {
   "display_name": "Python 3",
   "language": "python",
   "name": "python3"
  },
  "language_info": {
   "codemirror_mode": {
    "name": "ipython",
    "version": 3
   },
   "file_extension": ".py",
   "mimetype": "text/x-python",
   "name": "python",
   "nbconvert_exporter": "python",
   "pygments_lexer": "ipython3",
   "version": "3.8.8"
  }
 },
 "nbformat": 4,
 "nbformat_minor": 5
}
