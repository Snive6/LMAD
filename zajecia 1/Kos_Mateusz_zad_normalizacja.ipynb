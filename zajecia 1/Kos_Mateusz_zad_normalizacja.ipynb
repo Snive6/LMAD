{
 "cells": [
  {
   "cell_type": "code",
   "execution_count": 8,
   "id": "7914c597",
   "metadata": {},
   "outputs": [],
   "source": [
    "import pandas as pd\n",
    "import numpy as np"
   ]
  },
  {
   "cell_type": "code",
   "execution_count": 108,
   "id": "d2b5fd86",
   "metadata": {},
   "outputs": [],
   "source": [
    "A = [3,6,9,4,6]\n",
    "B = [210, 320, 150, 215, 189]"
   ]
  },
  {
   "cell_type": "code",
   "execution_count": 115,
   "id": "32a0902c",
   "metadata": {},
   "outputs": [],
   "source": [
    "class Normalization:\n",
    "    @staticmethod\n",
    "    def std(df, col_name):\n",
    "        list_values = df[col_name]\n",
    "        mi = np.mean(list_values)\n",
    "        sd = np.std(list_values)\n",
    "        new_list = (list_values - mi)/sd\n",
    "        df[col_name] = new_list\n",
    "        \n",
    "    @staticmethod\n",
    "    def min_max(df, col_name):\n",
    "        list_values = df[col_name]\n",
    "        new_list = (list_values - min(list_values))/(max(list_values) - min(list_values))\n",
    "        df[col_name] = new_list"
   ]
  },
  {
   "cell_type": "code",
   "execution_count": 149,
   "id": "739af94e",
   "metadata": {},
   "outputs": [],
   "source": [
    "df = pd.DataFrame({'A': A, 'B': B})"
   ]
  },
  {
   "cell_type": "code",
   "execution_count": 150,
   "id": "e136f055",
   "metadata": {},
   "outputs": [],
   "source": [
    "norm = Normalization()"
   ]
  },
  {
   "cell_type": "code",
   "execution_count": 151,
   "id": "4861b620",
   "metadata": {},
   "outputs": [
    {
     "data": {
      "text/html": [
       "<div>\n",
       "<style scoped>\n",
       "    .dataframe tbody tr th:only-of-type {\n",
       "        vertical-align: middle;\n",
       "    }\n",
       "\n",
       "    .dataframe tbody tr th {\n",
       "        vertical-align: top;\n",
       "    }\n",
       "\n",
       "    .dataframe thead th {\n",
       "        text-align: right;\n",
       "    }\n",
       "</style>\n",
       "<table border=\"1\" class=\"dataframe\">\n",
       "  <thead>\n",
       "    <tr style=\"text-align: right;\">\n",
       "      <th></th>\n",
       "      <th>A</th>\n",
       "      <th>B</th>\n",
       "    </tr>\n",
       "  </thead>\n",
       "  <tbody>\n",
       "    <tr>\n",
       "      <th>0</th>\n",
       "      <td>-1.262672</td>\n",
       "      <td>210</td>\n",
       "    </tr>\n",
       "    <tr>\n",
       "      <th>1</th>\n",
       "      <td>0.194257</td>\n",
       "      <td>320</td>\n",
       "    </tr>\n",
       "    <tr>\n",
       "      <th>2</th>\n",
       "      <td>1.651186</td>\n",
       "      <td>150</td>\n",
       "    </tr>\n",
       "    <tr>\n",
       "      <th>3</th>\n",
       "      <td>-0.777029</td>\n",
       "      <td>215</td>\n",
       "    </tr>\n",
       "    <tr>\n",
       "      <th>4</th>\n",
       "      <td>0.194257</td>\n",
       "      <td>189</td>\n",
       "    </tr>\n",
       "  </tbody>\n",
       "</table>\n",
       "</div>"
      ],
      "text/plain": [
       "          A    B\n",
       "0 -1.262672  210\n",
       "1  0.194257  320\n",
       "2  1.651186  150\n",
       "3 -0.777029  215\n",
       "4  0.194257  189"
      ]
     },
     "execution_count": 151,
     "metadata": {},
     "output_type": "execute_result"
    }
   ],
   "source": [
    "norm.std(df, 'A')\n",
    "df"
   ]
  },
  {
   "cell_type": "code",
   "execution_count": 152,
   "id": "5761ca7d",
   "metadata": {},
   "outputs": [
    {
     "data": {
      "text/html": [
       "<div>\n",
       "<style scoped>\n",
       "    .dataframe tbody tr th:only-of-type {\n",
       "        vertical-align: middle;\n",
       "    }\n",
       "\n",
       "    .dataframe tbody tr th {\n",
       "        vertical-align: top;\n",
       "    }\n",
       "\n",
       "    .dataframe thead th {\n",
       "        text-align: right;\n",
       "    }\n",
       "</style>\n",
       "<table border=\"1\" class=\"dataframe\">\n",
       "  <thead>\n",
       "    <tr style=\"text-align: right;\">\n",
       "      <th></th>\n",
       "      <th>A</th>\n",
       "      <th>B</th>\n",
       "    </tr>\n",
       "  </thead>\n",
       "  <tbody>\n",
       "    <tr>\n",
       "      <th>0</th>\n",
       "      <td>-1.262672</td>\n",
       "      <td>0.352941</td>\n",
       "    </tr>\n",
       "    <tr>\n",
       "      <th>1</th>\n",
       "      <td>0.194257</td>\n",
       "      <td>1.000000</td>\n",
       "    </tr>\n",
       "    <tr>\n",
       "      <th>2</th>\n",
       "      <td>1.651186</td>\n",
       "      <td>0.000000</td>\n",
       "    </tr>\n",
       "    <tr>\n",
       "      <th>3</th>\n",
       "      <td>-0.777029</td>\n",
       "      <td>0.382353</td>\n",
       "    </tr>\n",
       "    <tr>\n",
       "      <th>4</th>\n",
       "      <td>0.194257</td>\n",
       "      <td>0.229412</td>\n",
       "    </tr>\n",
       "  </tbody>\n",
       "</table>\n",
       "</div>"
      ],
      "text/plain": [
       "          A         B\n",
       "0 -1.262672  0.352941\n",
       "1  0.194257  1.000000\n",
       "2  1.651186  0.000000\n",
       "3 -0.777029  0.382353\n",
       "4  0.194257  0.229412"
      ]
     },
     "execution_count": 152,
     "metadata": {},
     "output_type": "execute_result"
    }
   ],
   "source": [
    "norm.min_max(df, 'B')\n",
    "df"
   ]
  }
 ],
 "metadata": {
  "kernelspec": {
   "display_name": "Python 3",
   "language": "python",
   "name": "python3"
  },
  "language_info": {
   "codemirror_mode": {
    "name": "ipython",
    "version": 3
   },
   "file_extension": ".py",
   "mimetype": "text/x-python",
   "name": "python",
   "nbconvert_exporter": "python",
   "pygments_lexer": "ipython3",
   "version": "3.8.8"
  }
 },
 "nbformat": 4,
 "nbformat_minor": 5
}
