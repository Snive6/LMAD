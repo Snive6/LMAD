{
 "cells": [
  {
   "cell_type": "markdown",
   "metadata": {
    "id": "6LyFlkIaGOzD"
   },
   "source": [
    "### Import bibliotek\n"
   ]
  },
  {
   "cell_type": "code",
   "execution_count": null,
   "metadata": {
    "id": "7_YdknevGr2y"
   },
   "outputs": [],
   "source": [
    "# %pip install interpret"
   ]
  },
  {
   "cell_type": "code",
   "execution_count": null,
   "metadata": {
    "id": "inTtXQNAFwnc"
   },
   "outputs": [],
   "source": [
    "import pandas as pd\n",
    "import numpy as np\n",
    "import matplotlib.pyplot as plt\n",
    "from mlxtend.plotting import plot_decision_regions\n",
    "\n",
    "from sklearn.ensemble import RandomForestClassifier\n",
    "\n",
    "from interpret.blackbox import LimeTabular\n",
    "from interpret import show\n",
    "\n",
    "np.random.seed(222)"
   ]
  },
  {
   "cell_type": "markdown",
   "metadata": {
    "id": "gcVGqecTGC-r"
   },
   "source": [
    "### Wczytanie danych"
   ]
  },
  {
   "cell_type": "code",
   "execution_count": null,
   "metadata": {
    "id": "TySkqgjcFwng"
   },
   "outputs": [],
   "source": [
    "df = pd.read_csv(\"stand_LIME.csv\", index_col=0)\n",
    "df.head()"
   ]
  },
  {
   "cell_type": "markdown",
   "metadata": {
    "id": "B_fKkNPxHD-x"
   },
   "source": [
    "### Przygotowanie danych\n"
   ]
  },
  {
   "cell_type": "code",
   "execution_count": null,
   "metadata": {
    "id": "cMEfIaORFwnh"
   },
   "outputs": [],
   "source": [
    "X = df[['x1_s','x2_s']].values\n",
    "y = df['y'].values\n",
    "plt.scatter(X[:,0],X[:,1], c=y); # cmap = 'Blues'"
   ]
  },
  {
   "cell_type": "markdown",
   "metadata": {
    "id": "wzTu9TI5Fwni"
   },
   "source": [
    "Klasa `0` to kształty, klasa `1` to tło."
   ]
  },
  {
   "cell_type": "markdown",
   "metadata": {
    "id": "29Z4MUdCHhXm"
   },
   "source": [
    "### Budowa klasyfikatora"
   ]
  },
  {
   "cell_type": "code",
   "execution_count": null,
   "metadata": {
    "id": "2kKz9cigFwnj"
   },
   "outputs": [],
   "source": [
    "rf = RandomForestClassifier(n_estimators=100)\n",
    "rf.fit(X, y)\n",
    "y_hat = rf.predict(X)"
   ]
  },
  {
   "cell_type": "markdown",
   "metadata": {
    "id": "HiHOSGZdH50h"
   },
   "source": [
    "#### Ocena jakości klasyfikacji"
   ]
  },
  {
   "cell_type": "code",
   "execution_count": null,
   "metadata": {
    "id": "9SUo4uC0Fwnk"
   },
   "outputs": [],
   "source": [
    "print(rf.score(X, y))\n",
    "plt.scatter(X[:,0],X[:,1], c=y_hat, cmap=\"RdYlGn\");"
   ]
  },
  {
   "cell_type": "markdown",
   "metadata": {
    "id": "No041yb-H_0I"
   },
   "source": [
    "#### Wykreślenie obszarów decyzyjnych klasyfikatora z prezentacją wybranego przypadku"
   ]
  },
  {
   "cell_type": "code",
   "execution_count": null,
   "metadata": {
    "id": "Fozgq02wFwnl"
   },
   "outputs": [],
   "source": [
    "regiony = {'edgecolor': None, 'alpha': 0.0}\n",
    "obserwacja = {'s': 20, 'label': 'Jan', 'c': 'r'}\n",
    "jan = np.array([[0.8, -0.7]])\n",
    "jan_forest = rf.predict(jan)\n",
    "print(f'Jan należy do klasy {jan_forest}')\n",
    "\n",
    "\n",
    "plot_decision_regions(X, y, clf=rf, legend = False,\n",
    "                      X_highlight=jan,\n",
    "                      scatter_kwargs=regiony,\n",
    "                      scatter_highlight_kwargs=obserwacja);"
   ]
  },
  {
   "cell_type": "markdown",
   "metadata": {
    "id": "f6CBjMcmFwnl"
   },
   "source": [
    "# *Local Interpretable Model-agnostic Explanations* (**LIME**) \n",
    "\n",
    "$$\\hat{g} = arg\\min_{g\\in G} \\mathcal{L}\\left\\{ f, g, \\pi_x \\right\\} + \\Omega(g)$$\n",
    "\n",
    "$\\hat{g}$ - konkretna obserwacja,\n",
    "\n",
    "$g\\in G$ - model należący do klasy modeli $G$, klasy potencjalnie interpretowalnych modeli takich jak: regresja liniowa, drzewa decyzyjne, klasyfikatory regułowe,\n",
    "\n",
    "$f$ - model złożony typu *blackbox*,\n",
    "\n",
    "$\\pi_x$ - sąsiectwo konkretnej obserwacji (*proximity*) - najczęściej wyrażane miarą odległości,\n",
    "\n",
    "$\\mathcal{L}$ - poszukiwane \"dobre dopasowanie\" modelu $f$ przez model $g$ w sąsiedztwie $\\pi_x$\n",
    "\n",
    "$\\Omega(g)$ - służy uregulowaniu złożoności naszego prostego modelu zastępczego $g$ (miara złożoności). Na przykład dla regresji liniowej warunkiem byłoby ustawienie wag dla niektórych zmiennych na $0$ (aby uprościć iterpretację wprowadzając do modelu tylko kilka $x_i$), dla drzew decyzyjnych ustawienie małej głębokości drzewa,\n",
    "\n",
    "$arg\\min_{g\\in G}$ - to problem minimalizacji, minimalizujemy dwie funkcje straty, ze względu na model $g$, przybliżamy więc złożony model w lokalnym obszarze do modelu prostego z dodatkowym warunkiem znalezienie modelu jak najprostszego.\n",
    "\n"
   ]
  },
  {
   "cell_type": "markdown",
   "metadata": {
    "id": "nVLaWpOiFwnm"
   },
   "source": [
    "### Krok 1.\n",
    "\n",
    "Wygenerowanie przypadkowych zakłóceń (*perturbation*) wokół wyjaśnianej obserwacji\n"
   ]
  },
  {
   "cell_type": "code",
   "execution_count": null,
   "metadata": {
    "id": "Zi9tju4dFwnm"
   },
   "outputs": [],
   "source": [
    "num_perturb = 100\n",
    "np.random.seed(222) \n",
    "X_lime = np.random.normal(0,1,size=(num_perturb,X.shape[1]))\n",
    "\n",
    "plt.scatter(X_lime[:,0],X_lime[:,1],s=2,c=\"black\");"
   ]
  },
  {
   "cell_type": "markdown",
   "metadata": {
    "id": "HXJt2MyNFwnn"
   },
   "source": [
    "### Krok 2.\n",
    "\n",
    "Wykorzystanie klasyfikatora do przewidywania klasy nowo wygenerowanego zbioru danych"
   ]
  },
  {
   "cell_type": "code",
   "execution_count": null,
   "metadata": {
    "colab": {
     "base_uri": "https://localhost:8080/",
     "height": 265
    },
    "executionInfo": {
     "elapsed": 884,
     "status": "ok",
     "timestamp": 1668295223060,
     "user": {
      "displayName": "Bogna Zacny",
      "userId": "02762059665557904617"
     },
     "user_tz": -60
    },
    "id": "Dn2EbCeUFwnn",
    "outputId": "86e4c552-8e74-4890-abf8-2c0d11065a1a"
   },
   "outputs": [],
   "source": [
    "y_lime = rf.predict(X_lime)\n",
    "\n",
    "plt.scatter(X_lime[:,0],X_lime[:,1],s=5, c=y_lime);"
   ]
  },
  {
   "cell_type": "code",
   "execution_count": null,
   "metadata": {
    "id": "QbWjBBKIFwno"
   },
   "outputs": [],
   "source": [
    "plot_decision_regions(X_lime, y_lime, clf=rf, legend=3,\n",
    "                      X_highlight=jan,\n",
    "                      scatter_kwargs=regiony,\n",
    "                      scatter_highlight_kwargs=obserwacja)\n",
    "plt.scatter(X_lime[:,0],X_lime[:,1], s=5, c=y_lime);"
   ]
  },
  {
   "cell_type": "markdown",
   "metadata": {
    "id": "nncAV2NtFwno"
   },
   "source": [
    "### Krok 3.\n",
    "\n",
    "Obliczenie odległości między wyjaśnianą obserwacją a każdym zakłóceniem oraz obliczenie wagi ich ważności (*importance*)"
   ]
  },
  {
   "cell_type": "code",
   "execution_count": null,
   "metadata": {
    "id": "3bhjjHvpFwno"
   },
   "outputs": [],
   "source": [
    "odleglosc = np.sum((jan - X_lime)**2, axis=1)  # odległość euklidesowa"
   ]
  },
  {
   "cell_type": "code",
   "execution_count": null,
   "metadata": {
    "id": "ywn38NQVFwno"
   },
   "outputs": [],
   "source": [
    "plot_decision_regions(X_lime, y_lime, clf=rf, legend=False,\n",
    "                      X_highlight=jan,\n",
    "                      scatter_kwargs=regiony,\n",
    "                      scatter_highlight_kwargs=obserwacja)\n",
    "plt.scatter(X_lime[:,0], X_lime[:,1], s = odleglosc,  marker=\"s\")"
   ]
  },
  {
   "cell_type": "code",
   "execution_count": null,
   "metadata": {
    "id": "7qRp7SYPFwno"
   },
   "outputs": [],
   "source": [
    "odleg = np.arange(0.1, 5.1, 0.1)\n",
    "plt.scatter(odleg, odleg, s=odleg*10)"
   ]
  },
  {
   "cell_type": "code",
   "execution_count": null,
   "metadata": {
    "id": "7qRp7SYPFwno"
   },
   "outputs": [],
   "source": [
    "promien = 0.2\n",
    "wagi1 = np.exp(odleg)\n",
    "wagi2 = np.exp(-(odleg))\n",
    "wagi3 = np.exp(-(odleg**2))\n",
    "wagi4 = np.exp(-(odleg**2)/(promien))\n",
    "wagi5 = np.exp(-(odleg**2)/(promien**2))\n",
    "wagi6 = np.sqrt(np.exp(-(odleg**2)/(promien**2)))\n",
    "\n",
    "plt.scatter(odleg, wagi1, s=odleg*10)\n",
    "# plt.scatter(odleg, wagi2, s=odleg*10)\n",
    "# plt.scatter(odleg, wagi3, s=odleg*10)\n",
    "# plt.scatter(odleg, wagi4, s=odleg*10)\n",
    "# plt.scatter(odleg, wagi5, s=odleg*10)\n",
    "# plt.scatter(odleg, wagi6, s=odleg*10)\n",
    "# plt.legend(['wagi2','wagi3','wagi4','wagi5','wagi6'])\n",
    "plt.xlabel('Odległość')\n",
    "plt.ylabel('Waga');"
   ]
  },
  {
   "cell_type": "code",
   "execution_count": null,
   "metadata": {
    "id": "aisR2FP6Jmqd"
   },
   "outputs": [],
   "source": [
    "promien = 0.2\n",
    "wagi = np.array(np.sqrt(np.exp(-(odleglosc**2)/(promien**2)))) # Kernel function"
   ]
  },
  {
   "cell_type": "code",
   "execution_count": null,
   "metadata": {
    "id": "X9zFJsvjJwOM"
   },
   "outputs": [],
   "source": [
    "plot_decision_regions(X_lime, y_lime, clf=rf, legend=False,\n",
    "                      X_highlight=jan,\n",
    "                      scatter_kwargs=regiony,\n",
    "                      scatter_highlight_kwargs=obserwacja)\n",
    "\n",
    "plt.scatter(X_lime[:, 0], X_lime[:, 1],\n",
    "            s=wagi * 50, c=wagi, cmap=\"Greens\", marker=\"^\");\n",
    "# plt.scatter(X_lime[y_lime == 0, 0], X_lime[y_lime == 0, 1],\n",
    "#             s=wagi[y_lime == 0] * 50, c=wagi[y_lime == 0], cmap=\"Greens\", marker=\"_\")\n",
    "# plt.scatter(X_lime[y_lime == 1, 0], X_lime[y_lime == 1, 1],\n",
    "#             s=wagi[y_lime == 1] * 50, c=wagi[y_lime == 1], cmap=\"Greens\", marker=\"+\");"
   ]
  },
  {
   "cell_type": "markdown",
   "metadata": {
    "id": "HxQ0VQF0Fwnp"
   },
   "source": [
    "### Krok 4.\n",
    "\n",
    "Dopasowanie prostszego i łatwiejszego w interpretacji modelu (tutaj regresji liniowej) do nowo wygenerowanego zestawu danych (`X_lime`), jego przewidywanych klas (`y_lime`) oraz ich ważności (`wagi`).\n"
   ]
  },
  {
   "cell_type": "code",
   "execution_count": null,
   "metadata": {
    "id": "Q3mQMqOLFwnp"
   },
   "outputs": [],
   "source": [
    "from sklearn.linear_model import LinearRegression\n",
    "prosty_model = LinearRegression() \n",
    "prosty_model.fit(X_lime, y_lime, sample_weight=wagi)\n",
    "\n",
    "a1, a2 = prosty_model.coef_\n",
    "a0 = prosty_model.intercept_\n",
    "\n",
    "y_prosty = prosty_model.predict(X_lime)\n",
    "jan_prosty = prosty_model.predict(jan)"
   ]
  },
  {
   "cell_type": "code",
   "execution_count": null,
   "metadata": {
    "id": "buMiHX0kFwnp"
   },
   "outputs": [],
   "source": [
    "print(f'Predykcja modelu właściwego: {jan_forest}')\n",
    "print(f'Predykcja regresji (LIME): {jan_prosty}')\n",
    "print(f'Parametry modelu uproszczonego (LIME): dla x1: {a1:.2f}, dla x2 {a2:.2f}, \\n wyraz wolny {a0:.2f}')"
   ]
  },
  {
   "cell_type": "code",
   "execution_count": null,
   "metadata": {
    "id": "6xYNGVX4Fwnp"
   },
   "outputs": [],
   "source": [
    "plt.scatter(y_lime, y_prosty);\n",
    "\n",
    "# plt.scatter(y_lime[y_lime == 0], y_prosty[y_lime == 0],\n",
    "#             c='b', marker='_',s=wagi[y_lime == 0] * 40)\n",
    "# plt.scatter(y_lime[y_lime == 1], y_prosty[y_lime == 1],\n",
    "#             c='b', marker='+', s=wagi[y_lime == 1] * 40)\n",
    "# plt.ylim(-0.5, 1.5);\n",
    "# plt.plot([0,1],[0.5,0.5],color='r', linestyle='dashed');"
   ]
  },
  {
   "cell_type": "code",
   "execution_count": null,
   "metadata": {
    "id": "lxodBbpaFwnq"
   },
   "outputs": [],
   "source": [
    "y_prosty_bin = y_prosty > 0.5"
   ]
  },
  {
   "cell_type": "code",
   "execution_count": null,
   "metadata": {
    "id": "lxodBbpaFwnq"
   },
   "outputs": [],
   "source": [
    "plot_decision_regions(X_lime, y_lime, clf=rf, legend=False,\n",
    "                      X_highlight=jan,\n",
    "                      scatter_kwargs=regiony,\n",
    "                      scatter_highlight_kwargs=obserwacja)\n",
    "plt.scatter(X_lime[y_prosty_bin == 0, 0], X_lime[y_prosty_bin == 0, 1],\n",
    "            c=wagi[y_prosty_bin == 0], marker=\"_\", s=wagi[y_prosty_bin == 0]*40)\n",
    "plt.scatter(X_lime[y_prosty_bin == 1, 0], X_lime[y_prosty_bin == 1, 1],\n",
    "            c=wagi[y_prosty_bin == 1], marker=\"+\", s=wagi[y_prosty_bin == 1]*40);"
   ]
  },
  {
   "cell_type": "markdown",
   "metadata": {
    "id": "GJW-sA00Fwnq"
   },
   "source": [
    "### LIME z biblioteką `interpret`"
   ]
  },
  {
   "cell_type": "code",
   "execution_count": null,
   "metadata": {
    "id": "DVjuwilIFwnq"
   },
   "outputs": [],
   "source": [
    "from interpret.blackbox import LimeTabular\n",
    "from interpret import show\n",
    "\n",
    "lime_inter = LimeTabular(predict_fn=rf.predict_proba, data=X, random_state=100)"
   ]
  },
  {
   "cell_type": "code",
   "execution_count": null,
   "metadata": {
    "id": "hUr0PfiIFwnr"
   },
   "outputs": [],
   "source": [
    "X_przypadki = np.array([[0.8, -0.7],\n",
    "                        [0.45, 1.4],\n",
    "                        [0.65, 1.75],\n",
    "                        [-0.6,0.85]])\n",
    "y_przypadki = rf.predict(X_przypadki)\n",
    "\n",
    "print(X_przypadki, y_przypadki)"
   ]
  },
  {
   "cell_type": "code",
   "execution_count": null,
   "metadata": {
    "id": "PodbF1LrFwnr"
   },
   "outputs": [],
   "source": [
    "plot_decision_regions(X, y, clf=rf, legend=False,\n",
    "                      scatter_kwargs=regiony)\n",
    "\n",
    "plt.scatter(X_przypadki[:,0],X_przypadki[:,1], c=y_przypadki);"
   ]
  },
  {
   "cell_type": "code",
   "execution_count": null,
   "metadata": {
    "id": "Fhn61DMQFwnr"
   },
   "outputs": [],
   "source": [
    "inter_lokal = lime_inter.explain_local(\n",
    "    X_przypadki, y_przypadki, name='lime')\n",
    "show(inter_lokal)"
   ]
  },
  {
   "cell_type": "markdown",
   "metadata": {
    "id": "DNdMfldBPQ5w"
   },
   "source": [
    "## Zadanie\n",
    "\n",
    "Proszę przygotować rozwiązanie (program, funkcję, polecenie) w języku Python, które pozwoli na zweryfikowanie istotności predykatorów zmiennej \"survived\" zbioru Titanic. Należy zbudować klasyfikator wykorzystując jeden z algorytmów typu blackbox a następnie wybrać 4 różne przypadki pasażerów i sprawdzić, które ze zmiennych miały największy wpływ na przypisanie przez klasyfikator etykiety danej klasy.\n",
    "\n",
    "**Wyniki należy zinterpretować.**"
   ]
  },
  {
   "cell_type": "code",
   "execution_count": null,
   "metadata": {
    "id": "rYhe6GjkFwnr"
   },
   "outputs": [],
   "source": [
    "dane = pd.read_csv(\"titanic.csv\")\n",
    "dane.shape"
   ]
  },
  {
   "cell_type": "code",
   "execution_count": null,
   "metadata": {
    "id": "DDICyb3DFwnr"
   },
   "outputs": [],
   "source": []
  }
 ],
 "metadata": {
  "colab": {
   "collapsed_sections": [],
   "provenance": [
    {
     "file_id": "14AdLKdWtAFbpBTFmiv_Z1b5VjHtgtVdV",
     "timestamp": 1668296880137
    }
   ]
  },
  "kernelspec": {
   "display_name": "Python 3",
   "language": "python",
   "name": "python3"
  },
  "language_info": {
   "codemirror_mode": {
    "name": "ipython",
    "version": 3
   },
   "file_extension": ".py",
   "mimetype": "text/x-python",
   "name": "python",
   "nbconvert_exporter": "python",
   "pygments_lexer": "ipython3",
   "version": "3.8.8"
  },
  "vscode": {
   "interpreter": {
    "hash": "16f5b46f222e2a3e8d4adbf7141cae37b71ed37616e60735fa5d1164a1bc3ada"
   }
  }
 },
 "nbformat": 4,
 "nbformat_minor": 1
}
