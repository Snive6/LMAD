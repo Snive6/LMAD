{
 "cells": [
  {
   "cell_type": "code",
   "execution_count": null,
   "id": "31ea4608",
   "metadata": {},
   "outputs": [],
   "source": [
    "# !pip install plotnine"
   ]
  },
  {
   "cell_type": "code",
   "execution_count": null,
   "id": "566a32e1",
   "metadata": {},
   "outputs": [],
   "source": [
    "import numpy as np\n",
    "import pandas as pd\n",
    "from plotnine import *\n",
    "\n",
    "from scipy import stats\n",
    "\n",
    "from sklearn.mixture import GaussianMixture"
   ]
  },
  {
   "cell_type": "markdown",
   "id": "49812e51",
   "metadata": {},
   "source": [
    "### Algorytm GMM"
   ]
  },
  {
   "cell_type": "markdown",
   "id": "2f0ec1ec",
   "metadata": {},
   "source": [
    "#### Grupowanie GMM w kolejnych krokach EM"
   ]
  },
  {
   "cell_type": "code",
   "execution_count": null,
   "id": "befc55b6",
   "metadata": {},
   "outputs": [],
   "source": [
    "df = pd.DataFrame({'x' : [0.1,0.25,0.17,0.22,0.3,0.28,0.45,0.5,0.7,0.73,0.78,0.8,0.81,0.99]})"
   ]
  },
  {
   "cell_type": "code",
   "execution_count": null,
   "id": "6b7fb1e0",
   "metadata": {},
   "outputs": [],
   "source": [
    "(ggplot(df, aes(x = 'x')) +\n",
    "geom_density() +\n",
    "geom_point(aes(y = -0.1))+\n",
    "theme_minimal())"
   ]
  },
  {
   "cell_type": "code",
   "execution_count": null,
   "id": "f8fd8eb0",
   "metadata": {},
   "outputs": [],
   "source": [
    "sr_x = df.x.mean()\n",
    "od_x = df.x.std()\n",
    "print(sr_x, od_x)\n",
    "\n",
    "print(df.x.to_list())\n",
    "print(stats.norm.pdf(df.x, sr_x, od_x).round(2))\n",
    "# (1/(od_x*np.sqrt(2*np.pi)))*np.power(np.e,-(np.power((df.x-sr_x),2)/(2*np.power(od_x,2))))\n",
    "print(stats.gaussian_kde(df.x).evaluate(df.x).round(2))"
   ]
  },
  {
   "cell_type": "code",
   "execution_count": null,
   "id": "676b4dc8",
   "metadata": {},
   "outputs": [],
   "source": [
    "df['pdf'] = stats.norm.pdf(df.x, sr_x, od_x)\n",
    "df['cdf'] = stats.norm.cdf(df.x, sr_x, od_x)\n",
    "df['g'] = stats.gaussian_kde(df.x).evaluate(df.x)"
   ]
  },
  {
   "cell_type": "code",
   "execution_count": null,
   "id": "d6d3e03b",
   "metadata": {},
   "outputs": [],
   "source": [
    "(ggplot(df, aes(x = 'x')) +\n",
    "geom_density() +\n",
    "geom_point(aes(y = -0.1))+\n",
    "geom_line(aes(y = 'pdf'), color = 'royalblue', linetype = 'dashed') +\n",
    "geom_line(aes(y = 'cdf'), color = 'seagreen', linetype = 'dashed') +\n",
    "geom_line(aes(y = 'g'), color = 'orangered', linetype = 'dashed') +\n",
    "theme_minimal())"
   ]
  },
  {
   "cell_type": "code",
   "execution_count": null,
   "id": "e2377bc8",
   "metadata": {},
   "outputs": [],
   "source": [
    "# Iter0\n",
    "\n",
    "# etap E\n",
    "# np.random.seed(2)\n",
    "# df['klastry0'] = np.random.randint(0,2,df.shape[0])\n",
    "\n",
    "# (ggplot(df, aes(x = 'x', y = -0.1, fill = 'factor(klastry0)')) +\n",
    "#  geom_point(size = 4, alpha = 0.5) +\n",
    "#  theme_minimal() +\n",
    "#  labs(fill = \"Klastry0\"))\n",
    "\n",
    "# # etap M\n",
    "\n",
    "sr_0 = df.x.where(df.klastry0 == 0).mean()\n",
    "od_0 = df.x.where(df.klastry0 == 0).std()\n",
    "sr_1 = df.x.where(df.klastry0 == 1).mean()\n",
    "od_1 = df.x.where(df.klastry0 == 1).std()\n",
    "\n",
    "# Wizualizacja\n",
    "print(f'Parametry zer: {sr_0:.3f}, {od_0:.3f},\\nParametry jedynek: {sr_1:.3f}, {od_1:.3f}')\n",
    "\n",
    "(ggplot(df, aes(x = 'x', color = 'factor(klastry0)')) +\n",
    "geom_density() +\n",
    "geom_point(aes(x = 'x', y = -0.1, color = 'factor(klastry0)')) +\n",
    "geom_rect(xmin=sr_0-od_0, xmax=sr_0+od_0, ymin=0, ymax=1.3, fill = 'salmon', color = 'salmon', alpha = 0.01, linetype = 'dotted') +\n",
    "geom_rect(xmin=sr_1-od_1, xmax=sr_1+od_1, ymin=0, ymax=1.3, fill = 'turquoise', color = 'turquoise', alpha = 0.01, linetype = 'dotted') +\n",
    "theme_minimal()+labs(color = 'klastry0'))"
   ]
  },
  {
   "cell_type": "code",
   "execution_count": null,
   "id": "c1d12bdc",
   "metadata": {},
   "outputs": [],
   "source": [
    "# Iter1\n",
    "## etap E\n",
    "\n",
    "# df['prawd_0'] = stats.norm.pdf(df.x, sr_0, od_0)\n",
    "# df['prawd_1'] = stats.norm.pdf(df.x, sr_1, od_1)\n",
    "\n",
    "# # Wizualizacja w trakcie E\n",
    "# (ggplot(df) +\n",
    "# geom_point(aes(x = 'x', y = -0.1)) +\n",
    "# geom_line(aes(x = 'x', y = 'prawd_0'), color = \"salmon\") +\n",
    "# geom_line(aes(x = 'x', y = 'prawd_1'), color = \"turquoise\") +\n",
    "# theme_minimal())\n",
    "\n",
    "# df['klastry1'] = np.where(df.prawd_0 > df.prawd_1, 0, 1)\n",
    "\n",
    "# # Wizualizacja po E\n",
    "# (ggplot(df) +\n",
    "# geom_point(aes(x = 'x', y = -0.1, color = 'factor(klastry1)')) +\n",
    "# geom_line(aes(x = 'x', y = 'prawd_0'), color = \"salmon\") +\n",
    "# geom_line(aes(x = 'x', y = 'prawd_1'), color = \"turquoise\") +\n",
    "# theme_minimal() + labs(color = 'Klastry1'))\n",
    "\n",
    "# # # etap M\n",
    "\n",
    "# sr_0 = df.x.where(df.klastry1 == 0).mean()\n",
    "# od_0 = df.x.where(df.klastry1 == 0).std()\n",
    "# sr_1 = df.x.where(df.klastry1 == 1).mean()\n",
    "# od_1 = df.x.where(df.klastry1 == 1).std()\n",
    "\n",
    "# # Wizualizacja po M\n",
    "\n",
    "# (ggplot(df) +\n",
    "# geom_point(aes(x = 'x', y = -0.1, color = 'factor(klastry1)')) +\n",
    "# geom_line(aes(x = 'x', y = 'prawd_0'), color = \"salmon\") +\n",
    "# geom_line(aes(x = 'x', y = 'prawd_1'), color = \"turquoise\") +\n",
    "# geom_rect(xmin=sr_0-od_0, xmax=sr_0+od_0, ymin=0, ymax=1.5, fill = 'salmon', color = 'salmon', alpha = 0.01, linetype = 'dotted') +\n",
    "# geom_rect(xmin=sr_1-od_1, xmax=sr_1+od_1, ymin=0, ymax=1.5, fill = 'turquoise', color = 'turquoise', alpha = 0.01, linetype = 'dotted') +\n",
    "# theme_minimal() + labs(color = 'Klastry1'))"
   ]
  },
  {
   "cell_type": "code",
   "execution_count": null,
   "id": "6243fecb",
   "metadata": {},
   "outputs": [],
   "source": [
    "# Iter2\n",
    "## etap E\n",
    "\n",
    "# df['prawd_0'] = stats.norm.pdf(df.x, sr_0, od_0)\n",
    "# df['prawd_1'] = stats.norm.pdf(df.x, sr_1, od_1)\n",
    "\n",
    "# # # Wizualizacja w trakcie E\n",
    "# (ggplot(df) +\n",
    "# geom_point(aes(x = 'x', y = -0.1)) +\n",
    "# geom_line(aes(x = 'x', y = 'prawd_0'), color = \"salmon\") +\n",
    "# geom_line(aes(x = 'x', y = 'prawd_1'), color = \"turquoise\") +\n",
    "# theme_minimal())\n",
    "\n",
    "# df['klastry2'] = np.where(df.prawd_0 > df.prawd_1, 0, 1)\n",
    "\n",
    "# # Wizualizacja po E\n",
    "# (ggplot(df) +\n",
    "# geom_point(aes(x = 'x', y = -0.1, color = 'factor(klastry2)')) +\n",
    "# geom_line(aes(x = 'x', y = 'prawd_0'), color = \"salmon\") +\n",
    "# geom_line(aes(x = 'x', y = 'prawd_1'), color = \"turquoise\") +\n",
    "# theme_minimal() + labs(color = 'Klastry2'))\n",
    "\n",
    "# # etap M\n",
    "\n",
    "# sr_0 = df.x.where(df.klastry2 == 0).mean()\n",
    "# od_0 = df.x.where(df.klastry2 == 0).std()\n",
    "# sr_1 = df.x.where(df.klastry2 == 1).mean()\n",
    "# od_1 = df.x.where(df.klastry2 == 1).std()\n",
    "\n",
    "# # Wizualizacja po M\n",
    "\n",
    "# (ggplot(df) +\n",
    "# geom_point(aes(x = 'x', y = -0.1, color = 'factor(klastry2)')) +\n",
    "# geom_line(aes(x = 'x', y = 'prawd_0'), color = \"salmon\") +\n",
    "# geom_line(aes(x = 'x', y = 'prawd_1'), color = \"turquoise\") +\n",
    "# geom_rect(xmin=sr_0-od_0, xmax=sr_0+od_0, ymin=0, ymax=4, fill = 'salmon', color = 'salmon', alpha = 0.01, linetype = 'dotted') +\n",
    "# geom_rect(xmin=sr_1-od_1, xmax=sr_1+od_1, ymin=0, ymax=4, fill = 'turquoise', color = 'turquoise', alpha = 0.01, linetype = 'dotted') +\n",
    "# theme_minimal() + labs(color = 'Klastry2'))"
   ]
  },
  {
   "cell_type": "code",
   "execution_count": null,
   "id": "c4e7d0c7",
   "metadata": {},
   "outputs": [],
   "source": [
    "# Iter3\n",
    "## etap E\n",
    "\n",
    "# df['prawd_0'] = stats.norm.pdf(df.x, sr_0, od_0)\n",
    "# df['prawd_1'] = stats.norm.pdf(df.x, sr_1, od_1)\n",
    "\n",
    "# # # Wizualizacja w trakcie E\n",
    "# (ggplot(df) +\n",
    "# geom_point(aes(x = 'x', y = -0.1)) +\n",
    "# geom_line(aes(x = 'x', y = 'prawd_0'), color = \"salmon\") +\n",
    "# geom_line(aes(x = 'x', y = 'prawd_1'), color = \"turquoise\") +\n",
    "# theme_minimal())\n",
    "\n",
    "# df['klastry3'] = np.where(df.prawd_0 > df.prawd_1, 0, 1)\n",
    "\n",
    "# Wizualizacja po E\n",
    "# (ggplot(df) +\n",
    "# geom_point(aes(x = 'x', y = -0.1, color = 'factor(klastry3)')) +\n",
    "# geom_line(aes(x = 'x', y = 'prawd_0'), color = \"salmon\") +\n",
    "# geom_line(aes(x = 'x', y = 'prawd_1'), color = \"turquoise\") +\n",
    "# theme_minimal() + labs(color = 'Klastry3'))\n",
    "\n",
    "# # etap M\n",
    "\n",
    "# sr_0 = df.x.where(df.klastry3 == 0).mean()\n",
    "# od_0 = df.x.where(df.klastry3 == 0).std()\n",
    "# sr_1 = df.x.where(df.klastry3 == 1).mean()\n",
    "# od_1 = df.x.where(df.klastry3 == 1).std()\n",
    "\n",
    "# # Wizualizacja po M\n",
    "\n",
    "# (ggplot(df) +\n",
    "# geom_point(aes(x = 'x', y = -0.1, color = 'factor(klastry3)')) +\n",
    "# geom_line(aes(x = 'x', y = 'prawd_0'), color = \"salmon\") +\n",
    "# geom_line(aes(x = 'x', y = 'prawd_1'), color = \"turquoise\") +\n",
    "# geom_rect(xmin=sr_0-od_0, xmax=sr_0+od_0, ymin=0, ymax=4, fill = 'salmon', color = 'salmon', alpha = 0.01, linetype = 'dotted') +\n",
    "# geom_rect(xmin=sr_1-od_1, xmax=sr_1+od_1, ymin=0, ymax=4, fill = 'turquoise', color = 'turquoise', alpha = 0.01, linetype = 'dotted') +\n",
    "# theme_minimal() + labs(color = 'Klastry3'))"
   ]
  },
  {
   "cell_type": "markdown",
   "id": "aded9a54",
   "metadata": {},
   "source": [
    "### Porównanie wyników z `GaussianMixture`"
   ]
  },
  {
   "cell_type": "code",
   "execution_count": null,
   "id": "698c62fc",
   "metadata": {},
   "outputs": [],
   "source": [
    "# GMM\n",
    "gm = GaussianMixture(n_components=2).fit(df[['x']])\n",
    "\n",
    "# dodanie do ramki kolumny z etykietami klastrów\n",
    "df['Kgm'] = gm.predict(df[['x']])\n",
    "\n",
    "# wykres\n",
    "(ggplot(df, aes(x = 'x', y = -0.1, fill = 'factor(Kgm)')) +\n",
    " geom_point(size = 4, alpha = 0.5) +\n",
    " theme_minimal() +\n",
    " labs(fill = \"GM\"))"
   ]
  },
  {
   "cell_type": "code",
   "execution_count": null,
   "id": "7679c5e3",
   "metadata": {},
   "outputs": [],
   "source": [
    "gm.n_iter_"
   ]
  },
  {
   "cell_type": "code",
   "execution_count": null,
   "id": "ae0366da",
   "metadata": {},
   "outputs": [],
   "source": [
    "gm.predict_proba(df[['x']]).round(3)"
   ]
  },
  {
   "cell_type": "code",
   "execution_count": null,
   "id": "183ba8a1",
   "metadata": {},
   "outputs": [],
   "source": [
    "df[['prawd_0', 'prawd_1']].round(3)"
   ]
  },
  {
   "cell_type": "code",
   "execution_count": null,
   "id": "7b5804e8",
   "metadata": {},
   "outputs": [],
   "source": []
  }
 ],
 "metadata": {
  "kernelspec": {
   "display_name": "Python 3",
   "language": "python",
   "name": "python3"
  },
  "language_info": {
   "codemirror_mode": {
    "name": "ipython",
    "version": 3
   },
   "file_extension": ".py",
   "mimetype": "text/x-python",
   "name": "python",
   "nbconvert_exporter": "python",
   "pygments_lexer": "ipython3",
   "version": "3.8.8"
  }
 },
 "nbformat": 4,
 "nbformat_minor": 5
}
